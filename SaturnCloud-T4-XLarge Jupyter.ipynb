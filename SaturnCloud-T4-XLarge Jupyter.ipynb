{
 "cells": [
  {
   "cell_type": "markdown",
   "id": "1f4f0fea-b645-4dd5-a8a5-fbcf2d993272",
   "metadata": {},
   "source": [
    "# Download Arxiv from Kaggle"
   ]
  },
  {
   "cell_type": "code",
   "execution_count": 2,
   "id": "9245bf11-a45e-46cd-8623-bb0c015efaf9",
   "metadata": {
    "execution": {
     "iopub.execute_input": "2022-11-03T07:50:30.319999Z",
     "iopub.status.busy": "2022-11-03T07:50:30.319611Z",
     "iopub.status.idle": "2022-11-03T07:51:32.819507Z",
     "shell.execute_reply": "2022-11-03T07:51:32.818650Z",
     "shell.execute_reply.started": "2022-11-03T07:50:30.319973Z"
    },
    "tags": []
   },
   "outputs": [
    {
     "name": "stdout",
     "output_type": "stream",
     "text": [
      "Collecting opendatasets\n",
      "  Using cached opendatasets-0.1.22-py3-none-any.whl (15 kB)\n",
      "Collecting sentence-transformers\n",
      "  Using cached sentence_transformers-2.2.2-py3-none-any.whl\n",
      "Collecting redis\n",
      "  Using cached redis-4.3.4-py3-none-any.whl (246 kB)\n",
      "Collecting redis-om\n",
      "  Using cached redis_om-0.1.0-py3-none-any.whl (76 kB)\n",
      "Collecting kaggle\n",
      "  Using cached kaggle-1.5.12-py3-none-any.whl\n",
      "Requirement already satisfied: tqdm in /opt/saturncloud/envs/saturn/lib/python3.9/site-packages (from opendatasets->-r requirements.txt (line 1)) (4.64.1)\n",
      "Requirement already satisfied: click in /opt/saturncloud/envs/saturn/lib/python3.9/site-packages (from opendatasets->-r requirements.txt (line 1)) (8.0.4)\n",
      "Collecting transformers<5.0.0,>=4.6.0\n",
      "  Using cached transformers-4.24.0-py3-none-any.whl (5.5 MB)\n",
      "Requirement already satisfied: numpy in /opt/saturncloud/envs/saturn/lib/python3.9/site-packages (from sentence-transformers->-r requirements.txt (line 2)) (1.22.4)\n",
      "Collecting sentencepiece\n",
      "  Using cached sentencepiece-0.1.97-cp39-cp39-manylinux_2_17_x86_64.manylinux2014_x86_64.whl (1.3 MB)\n",
      "Requirement already satisfied: scikit-learn in /opt/saturncloud/envs/saturn/lib/python3.9/site-packages (from sentence-transformers->-r requirements.txt (line 2)) (1.1.2)\n",
      "Collecting torchvision\n",
      "  Using cached torchvision-0.14.0-cp39-cp39-manylinux1_x86_64.whl (24.3 MB)\n",
      "Collecting nltk\n",
      "  Using cached nltk-3.7-py3-none-any.whl (1.5 MB)\n",
      "Collecting huggingface-hub>=0.4.0\n",
      "  Using cached huggingface_hub-0.10.1-py3-none-any.whl (163 kB)\n",
      "Requirement already satisfied: scipy in /opt/saturncloud/envs/saturn/lib/python3.9/site-packages (from sentence-transformers->-r requirements.txt (line 2)) (1.9.1)\n",
      "Collecting torch>=1.6.0\n",
      "  Using cached torch-1.13.0-cp39-cp39-manylinux1_x86_64.whl (890.2 MB)\n",
      "Collecting deprecated>=1.2.3\n",
      "  Using cached Deprecated-1.2.13-py2.py3-none-any.whl (9.6 kB)\n",
      "Requirement already satisfied: packaging>=20.4 in /opt/saturncloud/envs/saturn/lib/python3.9/site-packages (from redis->-r requirements.txt (line 3)) (21.3)\n",
      "Requirement already satisfied: async-timeout>=4.0.2 in /opt/saturncloud/envs/saturn/lib/python3.9/site-packages (from redis->-r requirements.txt (line 3)) (4.0.2)\n",
      "Collecting typing-extensions<5.0.0,>=4.4.0\n",
      "  Using cached typing_extensions-4.4.0-py3-none-any.whl (26 kB)\n",
      "Collecting aioredis<3.0.0,>=2.0.0\n",
      "  Using cached aioredis-2.0.1-py3-none-any.whl (71 kB)\n",
      "Requirement already satisfied: pydantic<2.0.0,>=1.10.2 in /opt/saturncloud/envs/saturn/lib/python3.9/site-packages (from redis-om->-r requirements.txt (line 4)) (1.10.2)\n",
      "Collecting cleo==1.0.0a5\n",
      "  Using cached cleo-1.0.0a5-py3-none-any.whl (78 kB)\n",
      "Collecting pptree<4.0,>=3.1\n",
      "  Using cached pptree-3.1-py3-none-any.whl\n",
      "Collecting types-redis<5.0.0,>=3.5.9\n",
      "  Using cached types_redis-4.3.21.3-py3-none-any.whl (51 kB)\n",
      "Collecting python-ulid<2.0.0,>=1.0.3\n",
      "  Using cached python_ulid-1.1.0-py3-none-any.whl (9.4 kB)\n",
      "Collecting hiredis<3.0.0,>=2.0.0\n",
      "  Using cached hiredis-2.0.0-cp39-cp39-manylinux2010_x86_64.whl (85 kB)\n",
      "Collecting more-itertools<9.0.0,>=8.14.0\n",
      "  Using cached more_itertools-8.14.0-py3-none-any.whl (52 kB)\n",
      "Collecting pylev<2.0.0,>=1.3.0\n",
      "  Using cached pylev-1.4.0-py2.py3-none-any.whl (6.1 kB)\n",
      "Collecting crashtest<0.4.0,>=0.3.1\n",
      "  Using cached crashtest-0.3.1-py3-none-any.whl (7.0 kB)\n",
      "Requirement already satisfied: wrapt<2,>=1.10 in /opt/saturncloud/envs/saturn/lib/python3.9/site-packages (from deprecated>=1.2.3->redis->-r requirements.txt (line 3)) (1.14.1)\n",
      "Requirement already satisfied: filelock in /opt/saturncloud/envs/saturn/lib/python3.9/site-packages (from huggingface-hub>=0.4.0->sentence-transformers->-r requirements.txt (line 2)) (3.8.0)\n",
      "Requirement already satisfied: pyyaml>=5.1 in /opt/saturncloud/envs/saturn/lib/python3.9/site-packages (from huggingface-hub>=0.4.0->sentence-transformers->-r requirements.txt (line 2)) (6.0)\n",
      "Requirement already satisfied: requests in /opt/saturncloud/envs/saturn/lib/python3.9/site-packages (from huggingface-hub>=0.4.0->sentence-transformers->-r requirements.txt (line 2)) (2.28.1)\n",
      "Requirement already satisfied: pyparsing!=3.0.5,>=2.0.2 in /opt/saturncloud/envs/saturn/lib/python3.9/site-packages (from packaging>=20.4->redis->-r requirements.txt (line 3)) (3.0.9)\n",
      "Collecting nvidia-cudnn-cu11==8.5.0.96\n",
      "  Using cached nvidia_cudnn_cu11-8.5.0.96-2-py3-none-manylinux1_x86_64.whl (557.1 MB)\n",
      "Collecting nvidia-cuda-nvrtc-cu11==11.7.99\n",
      "  Using cached nvidia_cuda_nvrtc_cu11-11.7.99-2-py3-none-manylinux1_x86_64.whl (21.0 MB)\n",
      "Collecting nvidia-cublas-cu11==11.10.3.66\n",
      "  Using cached nvidia_cublas_cu11-11.10.3.66-py3-none-manylinux1_x86_64.whl (317.1 MB)\n",
      "Collecting nvidia-cuda-runtime-cu11==11.7.99\n",
      "  Using cached nvidia_cuda_runtime_cu11-11.7.99-py3-none-manylinux1_x86_64.whl (849 kB)\n",
      "Requirement already satisfied: wheel in /opt/saturncloud/envs/saturn/lib/python3.9/site-packages (from nvidia-cublas-cu11==11.10.3.66->torch>=1.6.0->sentence-transformers->-r requirements.txt (line 2)) (0.37.1)\n",
      "Requirement already satisfied: setuptools in /opt/saturncloud/envs/saturn/lib/python3.9/site-packages (from nvidia-cublas-cu11==11.10.3.66->torch>=1.6.0->sentence-transformers->-r requirements.txt (line 2)) (60.10.0)\n",
      "Collecting regex!=2019.12.17\n",
      "  Using cached regex-2022.10.31-cp39-cp39-manylinux_2_17_x86_64.manylinux2014_x86_64.whl (769 kB)\n",
      "Collecting tokenizers!=0.11.3,<0.14,>=0.11.1\n",
      "  Using cached tokenizers-0.13.1-cp39-cp39-manylinux_2_17_x86_64.manylinux2014_x86_64.whl (7.6 MB)\n",
      "Requirement already satisfied: urllib3 in /opt/saturncloud/envs/saturn/lib/python3.9/site-packages (from kaggle->opendatasets->-r requirements.txt (line 1)) (1.26.11)\n",
      "Requirement already satisfied: six>=1.10 in /opt/saturncloud/envs/saturn/lib/python3.9/site-packages (from kaggle->opendatasets->-r requirements.txt (line 1)) (1.16.0)\n",
      "Requirement already satisfied: python-slugify in /opt/saturncloud/envs/saturn/lib/python3.9/site-packages (from kaggle->opendatasets->-r requirements.txt (line 1)) (6.1.2)\n",
      "Requirement already satisfied: python-dateutil in /opt/saturncloud/envs/saturn/lib/python3.9/site-packages (from kaggle->opendatasets->-r requirements.txt (line 1)) (2.8.2)\n",
      "Requirement already satisfied: certifi in /opt/saturncloud/envs/saturn/lib/python3.9/site-packages (from kaggle->opendatasets->-r requirements.txt (line 1)) (2022.9.24)\n",
      "Requirement already satisfied: joblib in /opt/saturncloud/envs/saturn/lib/python3.9/site-packages (from nltk->sentence-transformers->-r requirements.txt (line 2)) (1.2.0)\n",
      "Requirement already satisfied: threadpoolctl>=2.0.0 in /opt/saturncloud/envs/saturn/lib/python3.9/site-packages (from scikit-learn->sentence-transformers->-r requirements.txt (line 2)) (3.1.0)\n",
      "Requirement already satisfied: pillow!=8.3.*,>=5.3.0 in /opt/saturncloud/envs/saturn/lib/python3.9/site-packages (from torchvision->sentence-transformers->-r requirements.txt (line 2)) (9.2.0)\n",
      "Requirement already satisfied: text-unidecode>=1.3 in /opt/saturncloud/envs/saturn/lib/python3.9/site-packages (from python-slugify->kaggle->opendatasets->-r requirements.txt (line 1)) (1.3)\n",
      "Requirement already satisfied: charset-normalizer<3,>=2 in /opt/saturncloud/envs/saturn/lib/python3.9/site-packages (from requests->huggingface-hub>=0.4.0->sentence-transformers->-r requirements.txt (line 2)) (2.1.1)\n",
      "Requirement already satisfied: idna<4,>=2.5 in /opt/saturncloud/envs/saturn/lib/python3.9/site-packages (from requests->huggingface-hub>=0.4.0->sentence-transformers->-r requirements.txt (line 2)) (3.4)\n",
      "Installing collected packages: types-redis, tokenizers, sentencepiece, pylev, pptree, typing-extensions, regex, python-ulid, nvidia-cuda-runtime-cu11, nvidia-cuda-nvrtc-cu11, nvidia-cublas-cu11, more-itertools, hiredis, deprecated, crashtest, redis, nvidia-cudnn-cu11, nltk, kaggle, huggingface-hub, cleo, aioredis, transformers, torch, redis-om, opendatasets, torchvision, sentence-transformers\n",
      "  Attempting uninstall: typing-extensions\n",
      "    Found existing installation: typing_extensions 4.3.0\n",
      "    Uninstalling typing_extensions-4.3.0:\n",
      "      Successfully uninstalled typing_extensions-4.3.0\n",
      "\u001b[31mERROR: pip's dependency resolver does not currently take into account all the packages that are installed. This behaviour is the source of the following dependency conflicts.\n",
      "cudf 22.6.1 requires cupy-cuda115, which is not installed.\n",
      "cudf-kafka 22.6.1 requires cython, which is not installed.\u001b[0m\u001b[31m\n",
      "\u001b[0mSuccessfully installed aioredis-2.0.1 cleo-1.0.0a5 crashtest-0.3.1 deprecated-1.2.13 hiredis-2.0.0 huggingface-hub-0.10.1 kaggle-1.5.12 more-itertools-8.14.0 nltk-3.7 nvidia-cublas-cu11-11.10.3.66 nvidia-cuda-nvrtc-cu11-11.7.99 nvidia-cuda-runtime-cu11-11.7.99 nvidia-cudnn-cu11-8.5.0.96 opendatasets-0.1.22 pptree-3.1 pylev-1.4.0 python-ulid-1.1.0 redis-4.3.4 redis-om-0.1.0 regex-2022.10.31 sentence-transformers-2.2.2 sentencepiece-0.1.97 tokenizers-0.13.1 torch-1.13.0 torchvision-0.14.0 transformers-4.24.0 types-redis-4.3.21.3 typing-extensions-4.4.0\n"
     ]
    }
   ],
   "source": [
    "!pip install -r requirements.txt"
   ]
  },
  {
   "cell_type": "code",
   "execution_count": 2,
   "id": "31027a2e-fe6d-4dc5-90c1-cde4c38cc85b",
   "metadata": {
    "execution": {
     "iopub.execute_input": "2022-11-03T07:24:29.202417Z",
     "iopub.status.busy": "2022-11-03T07:24:29.202003Z",
     "iopub.status.idle": "2022-11-03T07:24:29.224404Z",
     "shell.execute_reply": "2022-11-03T07:24:29.223741Z",
     "shell.execute_reply.started": "2022-11-03T07:24:29.202382Z"
    },
    "tags": []
   },
   "outputs": [
    {
     "name": "stdout",
     "output_type": "stream",
     "text": [
      "Skipping, found downloaded files in \"./arxiv\" (use force=True to force download)\n"
     ]
    }
   ],
   "source": [
    "import opendatasets as od\n",
    "\n",
    "od.download(\"https://www.kaggle.com/datasets/Cornell-University/arxiv\")"
   ]
  },
  {
   "cell_type": "markdown",
   "id": "b5c849ff-52f7-4508-a239-f44ff1dc1021",
   "metadata": {},
   "source": [
    "# Clean The Data"
   ]
  },
  {
   "cell_type": "code",
   "execution_count": 3,
   "id": "52a7207d-ab1b-4fd9-a022-092a4c8667a0",
   "metadata": {
    "execution": {
     "iopub.execute_input": "2022-11-03T07:24:29.225509Z",
     "iopub.status.busy": "2022-11-03T07:24:29.225245Z",
     "iopub.status.idle": "2022-11-03T07:24:29.560033Z",
     "shell.execute_reply": "2022-11-03T07:24:29.559365Z",
     "shell.execute_reply.started": "2022-11-03T07:24:29.225489Z"
    },
    "tags": []
   },
   "outputs": [],
   "source": [
    "import json\n",
    "import pandas as pd\n",
    "import os\n",
    "import re\n",
    "import string\n",
    "\n",
    "\n",
    "DATA_PATH = \"arxiv-metadata-oai-snapshot.json\"\n",
    "YEAR_CUTOFF = 2012\n",
    "YEAR_PATTERN = r\"(19|20[0-9]{2})\"\n",
    "ML_CATEGORY = \"cs.LG\""
   ]
  },
  {
   "cell_type": "code",
   "execution_count": 4,
   "id": "576c693d-0f4e-4919-a8c2-dc690ac36c6c",
   "metadata": {
    "execution": {
     "iopub.execute_input": "2022-11-03T07:24:29.561280Z",
     "iopub.status.busy": "2022-11-03T07:24:29.560933Z",
     "iopub.status.idle": "2022-11-03T07:24:29.567481Z",
     "shell.execute_reply": "2022-11-03T07:24:29.566738Z",
     "shell.execute_reply.started": "2022-11-03T07:24:29.561257Z"
    },
    "tags": []
   },
   "outputs": [],
   "source": [
    "def process(paper: dict):\n",
    "    paper = json.loads(paper)\n",
    "    if paper['journal-ref']:\n",
    "        years = [int(year) for year in re.findall(YEAR_PATTERN, paper['journal-ref'])]\n",
    "        years = [year for year in years if (year <= 2022 and year >= 1991)]\n",
    "        year = min(years) if years else None\n",
    "    else:\n",
    "        year = None\n",
    "    return {\n",
    "        'id': paper['id'],\n",
    "        'title': paper['title'],\n",
    "        'year': year,\n",
    "        'authors': paper['authors'],\n",
    "        'categories': ','.join(paper['categories'].split(' ')),\n",
    "        'abstract': paper['abstract']\n",
    "    }\n",
    "\n",
    "def papers():\n",
    "    with open(DATA_PATH, 'r') as f:\n",
    "        for paper in f:\n",
    "            paper = process(paper)\n",
    "            if paper['year']:\n",
    "                if paper['year'] >= YEAR_CUTOFF and ML_CATEGORY in paper['categories']:\n",
    "                    yield paper"
   ]
  },
  {
   "cell_type": "code",
   "execution_count": 6,
   "id": "c639b2f0-bda4-450b-8328-21beff269a4d",
   "metadata": {
    "execution": {
     "iopub.execute_input": "2022-11-03T07:24:52.649055Z",
     "iopub.status.busy": "2022-11-03T07:24:52.648666Z",
     "iopub.status.idle": "2022-11-03T07:25:21.027319Z",
     "shell.execute_reply": "2022-11-03T07:25:21.026489Z",
     "shell.execute_reply.started": "2022-11-03T07:24:52.649029Z"
    },
    "tags": []
   },
   "outputs": [
    {
     "data": {
      "text/plain": [
       "11304"
      ]
     },
     "execution_count": 12,
     "metadata": {},
     "output_type": "execute_result"
    }
   ],
   "source": [
    "df = pd.DataFrame(papers())\n",
    "len(df)"
   ]
  },
  {
   "cell_type": "code",
   "execution_count": null,
   "id": "97a8aeba-2692-4a39-a63f-299dc63d0f70",
   "metadata": {
    "execution": {
     "iopub.status.busy": "2022-11-03T07:24:42.742428Z",
     "iopub.status.idle": "2022-11-03T07:24:42.742777Z",
     "shell.execute_reply": "2022-11-03T07:24:42.742654Z",
     "shell.execute_reply.started": "2022-11-03T07:24:42.742640Z"
    },
    "tags": []
   },
   "outputs": [
    {
     "data": {
      "text/html": [
       "<div>\n",
       "<style scoped>\n",
       "    .dataframe tbody tr th:only-of-type {\n",
       "        vertical-align: middle;\n",
       "    }\n",
       "\n",
       "    .dataframe tbody tr th {\n",
       "        vertical-align: top;\n",
       "    }\n",
       "\n",
       "    .dataframe thead th {\n",
       "        text-align: right;\n",
       "    }\n",
       "</style>\n",
       "<table border=\"1\" class=\"dataframe\">\n",
       "  <thead>\n",
       "    <tr style=\"text-align: right;\">\n",
       "      <th></th>\n",
       "      <th>id</th>\n",
       "      <th>title</th>\n",
       "      <th>year</th>\n",
       "      <th>authors</th>\n",
       "      <th>categories</th>\n",
       "      <th>abstract</th>\n",
       "    </tr>\n",
       "  </thead>\n",
       "  <tbody>\n",
       "    <tr>\n",
       "      <th>0</th>\n",
       "      <td>0705.4485</td>\n",
       "      <td>Mixed membership stochastic blockmodels</td>\n",
       "      <td>2014</td>\n",
       "      <td>Edoardo M Airoldi, David M Blei, Stephen E Fie...</td>\n",
       "      <td>stat.ME,cs.LG,math.ST,physics.soc-ph,stat.ML,s...</td>\n",
       "      <td>Observations consisting of measurements on r...</td>\n",
       "    </tr>\n",
       "    <tr>\n",
       "      <th>1</th>\n",
       "      <td>0808.3231</td>\n",
       "      <td>Multi-Instance Multi-Label Learning</td>\n",
       "      <td>2012</td>\n",
       "      <td>Zhi-Hua Zhou, Min-Ling Zhang, Sheng-Jun Huang,...</td>\n",
       "      <td>cs.LG,cs.AI</td>\n",
       "      <td>In this paper, we propose the MIML (Multi-In...</td>\n",
       "    </tr>\n",
       "    <tr>\n",
       "      <th>2</th>\n",
       "      <td>0811.4413</td>\n",
       "      <td>A Spectral Algorithm for Learning Hidden Marko...</td>\n",
       "      <td>2012</td>\n",
       "      <td>Daniel Hsu, Sham M. Kakade, Tong Zhang</td>\n",
       "      <td>cs.LG,cs.AI</td>\n",
       "      <td>Hidden Markov Models (HMMs) are one of the m...</td>\n",
       "    </tr>\n",
       "    <tr>\n",
       "      <th>3</th>\n",
       "      <td>0903.4817</td>\n",
       "      <td>An Exponential Lower Bound on the Complexity o...</td>\n",
       "      <td>2012</td>\n",
       "      <td>Bernd G\\\"artner, Martin Jaggi and Cl\\'ement Maria</td>\n",
       "      <td>cs.LG,cs.CG,cs.CV,math.OC,stat.ML</td>\n",
       "      <td>For a variety of regularized optimization pr...</td>\n",
       "    </tr>\n",
       "    <tr>\n",
       "      <th>4</th>\n",
       "      <td>0909.5175</td>\n",
       "      <td>Bounding the Sensitivity of Polynomial Thresho...</td>\n",
       "      <td>2013</td>\n",
       "      <td>Prahladh Harsha, Adam Klivans, Raghu Meka</td>\n",
       "      <td>cs.CC,cs.LG</td>\n",
       "      <td>We give the first non-trivial upper bounds o...</td>\n",
       "    </tr>\n",
       "    <tr>\n",
       "      <th>5</th>\n",
       "      <td>0912.4884</td>\n",
       "      <td>An Invariance Principle for Polytopes</td>\n",
       "      <td>2012</td>\n",
       "      <td>Prahladh Harsha, Adam Klivans and Raghu Meka</td>\n",
       "      <td>cs.CC,cs.CG,cs.DM,cs.LG,math.PR</td>\n",
       "      <td>Let X be randomly chosen from {-1,1}^n, and ...</td>\n",
       "    </tr>\n",
       "    <tr>\n",
       "      <th>6</th>\n",
       "      <td>1004.4668</td>\n",
       "      <td>Evolutionary Inference for Function-valued Tra...</td>\n",
       "      <td>2012</td>\n",
       "      <td>Nick S. Jones and John Moriarty</td>\n",
       "      <td>q-bio.QM,cs.LG,physics.data-an,stat.ML</td>\n",
       "      <td>Biological data objects often have both of t...</td>\n",
       "    </tr>\n",
       "    <tr>\n",
       "      <th>7</th>\n",
       "      <td>1005.4717</td>\n",
       "      <td>Smoothing proximal gradient method for general...</td>\n",
       "      <td>2012</td>\n",
       "      <td>Xi Chen, Qihang Lin, Seyoung Kim, Jaime G. Car...</td>\n",
       "      <td>stat.ML,cs.LG,math.OC,stat.AP,stat.CO</td>\n",
       "      <td>We study the problem of estimating high-dime...</td>\n",
       "    </tr>\n",
       "    <tr>\n",
       "      <th>8</th>\n",
       "      <td>1005.5141</td>\n",
       "      <td>On Recursive Edit Distance Kernels with Applic...</td>\n",
       "      <td>2014</td>\n",
       "      <td>Pierre-Fran\\c{c}ois Marteau (IRISA), Sylvie Gi...</td>\n",
       "      <td>cs.LG,cs.IR</td>\n",
       "      <td>This paper proposes some extensions to the w...</td>\n",
       "    </tr>\n",
       "    <tr>\n",
       "      <th>9</th>\n",
       "      <td>1006.2513</td>\n",
       "      <td>On the Achievability of Cram\\'er-Rao Bound In ...</td>\n",
       "      <td>2012</td>\n",
       "      <td>Rad Niazadeh, Masoud Babaie-Zadeh and Christia...</td>\n",
       "      <td>cs.IT,cs.LG,math.IT</td>\n",
       "      <td>Recently, it has been proved in Babadi et al...</td>\n",
       "    </tr>\n",
       "  </tbody>\n",
       "</table>\n",
       "</div>"
      ],
      "text/plain": [
       "          id                                              title  year  \\\n",
       "0  0705.4485            Mixed membership stochastic blockmodels  2014   \n",
       "1  0808.3231                Multi-Instance Multi-Label Learning  2012   \n",
       "2  0811.4413  A Spectral Algorithm for Learning Hidden Marko...  2012   \n",
       "3  0903.4817  An Exponential Lower Bound on the Complexity o...  2012   \n",
       "4  0909.5175  Bounding the Sensitivity of Polynomial Thresho...  2013   \n",
       "5  0912.4884              An Invariance Principle for Polytopes  2012   \n",
       "6  1004.4668  Evolutionary Inference for Function-valued Tra...  2012   \n",
       "7  1005.4717  Smoothing proximal gradient method for general...  2012   \n",
       "8  1005.5141  On Recursive Edit Distance Kernels with Applic...  2014   \n",
       "9  1006.2513  On the Achievability of Cram\\'er-Rao Bound In ...  2012   \n",
       "\n",
       "                                             authors  \\\n",
       "0  Edoardo M Airoldi, David M Blei, Stephen E Fie...   \n",
       "1  Zhi-Hua Zhou, Min-Ling Zhang, Sheng-Jun Huang,...   \n",
       "2             Daniel Hsu, Sham M. Kakade, Tong Zhang   \n",
       "3  Bernd G\\\"artner, Martin Jaggi and Cl\\'ement Maria   \n",
       "4          Prahladh Harsha, Adam Klivans, Raghu Meka   \n",
       "5       Prahladh Harsha, Adam Klivans and Raghu Meka   \n",
       "6                    Nick S. Jones and John Moriarty   \n",
       "7  Xi Chen, Qihang Lin, Seyoung Kim, Jaime G. Car...   \n",
       "8  Pierre-Fran\\c{c}ois Marteau (IRISA), Sylvie Gi...   \n",
       "9  Rad Niazadeh, Masoud Babaie-Zadeh and Christia...   \n",
       "\n",
       "                                          categories  \\\n",
       "0  stat.ME,cs.LG,math.ST,physics.soc-ph,stat.ML,s...   \n",
       "1                                        cs.LG,cs.AI   \n",
       "2                                        cs.LG,cs.AI   \n",
       "3                  cs.LG,cs.CG,cs.CV,math.OC,stat.ML   \n",
       "4                                        cs.CC,cs.LG   \n",
       "5                    cs.CC,cs.CG,cs.DM,cs.LG,math.PR   \n",
       "6             q-bio.QM,cs.LG,physics.data-an,stat.ML   \n",
       "7              stat.ML,cs.LG,math.OC,stat.AP,stat.CO   \n",
       "8                                        cs.LG,cs.IR   \n",
       "9                                cs.IT,cs.LG,math.IT   \n",
       "\n",
       "                                            abstract  \n",
       "0    Observations consisting of measurements on r...  \n",
       "1    In this paper, we propose the MIML (Multi-In...  \n",
       "2    Hidden Markov Models (HMMs) are one of the m...  \n",
       "3    For a variety of regularized optimization pr...  \n",
       "4    We give the first non-trivial upper bounds o...  \n",
       "5    Let X be randomly chosen from {-1,1}^n, and ...  \n",
       "6    Biological data objects often have both of t...  \n",
       "7    We study the problem of estimating high-dime...  \n",
       "8    This paper proposes some extensions to the w...  \n",
       "9    Recently, it has been proved in Babadi et al...  "
      ]
     },
     "execution_count": 13,
     "metadata": {},
     "output_type": "execute_result"
    }
   ],
   "source": [
    "df.head(10)"
   ]
  },
  {
   "cell_type": "code",
   "execution_count": null,
   "id": "9fdcd6f3-1036-4cd1-99d0-43513b7f40d7",
   "metadata": {
    "execution": {
     "iopub.status.busy": "2022-11-03T07:24:42.743957Z",
     "iopub.status.idle": "2022-11-03T07:24:42.744229Z",
     "shell.execute_reply": "2022-11-03T07:24:42.744113Z",
     "shell.execute_reply.started": "2022-11-03T07:24:42.744101Z"
    },
    "tags": []
   },
   "outputs": [
    {
     "data": {
      "text/plain": [
       "169.8122788393489"
      ]
     },
     "execution_count": 14,
     "metadata": {},
     "output_type": "execute_result"
    }
   ],
   "source": [
    "# Avg length of the abstracts\n",
    "df.abstract.apply(lambda a: len(a.split())).mean()"
   ]
  },
  {
   "cell_type": "code",
   "execution_count": null,
   "id": "e0569455-93c3-4191-af37-e3903b7ff499",
   "metadata": {
    "execution": {
     "iopub.status.busy": "2022-11-03T07:24:42.745484Z",
     "iopub.status.idle": "2022-11-03T07:24:42.746192Z",
     "shell.execute_reply": "2022-11-03T07:24:42.745984Z",
     "shell.execute_reply.started": "2022-11-03T07:24:42.745961Z"
    },
    "tags": []
   },
   "outputs": [],
   "source": [
    "def clean_description(description: str):\n",
    "    if not description:\n",
    "        return \"\"\n",
    "    # remove unicode characters\n",
    "    description = description.encode('ascii', 'ignore').decode()\n",
    "\n",
    "    # remove punctuation\n",
    "    description = re.sub('[%s]' % re.escape(string.punctuation), ' ', description)\n",
    "\n",
    "    # clean up the spacing\n",
    "    description = re.sub('\\s{2,}', \" \", description)\n",
    "\n",
    "    # remove urls\n",
    "    #description = re.sub(\"https*\\S+\", \" \", description)\n",
    "\n",
    "    # remove newlines\n",
    "    description = description.replace(\"\\n\", \" \")\n",
    "\n",
    "    # remove all numbers\n",
    "    #description = re.sub('\\w*\\d+\\w*', '', description)\n",
    "\n",
    "    # split on capitalized words\n",
    "    description = \" \".join(re.split('(?=[A-Z])', description))\n",
    "\n",
    "    # clean up the spacing again\n",
    "    description = re.sub('\\s{2,}', \" \", description)\n",
    "\n",
    "    # make all words lowercase\n",
    "    description = description.lower()\n",
    "\n",
    "    return description"
   ]
  },
  {
   "cell_type": "markdown",
   "id": "edb2bcb0-b335-44e0-9cd5-436aad0868b6",
   "metadata": {},
   "source": [
    "# Generate Embeddings"
   ]
  },
  {
   "cell_type": "code",
   "execution_count": null,
   "id": "c79c0b46-34fb-4ba0-813d-0c48c21c19a8",
   "metadata": {
    "execution": {
     "iopub.status.busy": "2022-11-03T07:24:42.747168Z",
     "iopub.status.idle": "2022-11-03T07:24:42.747834Z",
     "shell.execute_reply": "2022-11-03T07:24:42.747702Z",
     "shell.execute_reply.started": "2022-11-03T07:24:42.747687Z"
    },
    "tags": []
   },
   "outputs": [],
   "source": [
    "from sentence_transformers import SentenceTransformer\n",
    "\n",
    "model = SentenceTransformer('sentence-transformers/all-mpnet-base-v2')"
   ]
  },
  {
   "cell_type": "code",
   "execution_count": null,
   "id": "6df1803e-e57e-43f8-8649-1fe758dd414c",
   "metadata": {
    "execution": {
     "iopub.status.busy": "2022-11-03T07:24:42.748703Z",
     "iopub.status.idle": "2022-11-03T07:24:42.749044Z",
     "shell.execute_reply": "2022-11-03T07:24:42.748929Z",
     "shell.execute_reply.started": "2022-11-03T07:24:42.748916Z"
    },
    "tags": []
   },
   "outputs": [
    {
     "name": "stderr",
     "output_type": "stream",
     "text": [
      "\n",
      "KeyboardInterrupt\n",
      "\n"
     ]
    }
   ],
   "source": [
    "# Create embeddings from the title and abstract\n",
    "emb = model.encode(df.apply(lambda r: clean_description(r['title'] + ' ' + r['abstract']), axis=1).tolist())"
   ]
  },
  {
   "cell_type": "code",
   "execution_count": null,
   "id": "f19a8373-78db-4f83-85ac-74435c1885b2",
   "metadata": {
    "execution": {
     "iopub.status.busy": "2022-11-03T07:24:42.750219Z",
     "iopub.status.idle": "2022-11-03T07:24:42.750559Z",
     "shell.execute_reply": "2022-11-03T07:24:42.750442Z",
     "shell.execute_reply.started": "2022-11-03T07:24:42.750429Z"
    },
    "tags": []
   },
   "outputs": [],
   "source": [
    "len(emb)"
   ]
  },
  {
   "cell_type": "code",
   "execution_count": null,
   "id": "67af24bf-466c-45d1-8eac-d47bb25a6ea5",
   "metadata": {
    "execution": {
     "iopub.status.busy": "2022-11-03T07:24:42.751417Z",
     "iopub.status.idle": "2022-11-03T07:24:42.751700Z",
     "shell.execute_reply": "2022-11-03T07:24:42.751585Z",
     "shell.execute_reply.started": "2022-11-03T07:24:42.751572Z"
    },
    "tags": []
   },
   "outputs": [],
   "source": [
    "# Add embeddings to df\n",
    "df = df.reset_index().drop('index', axis=1)\n",
    "df['vector'] = emb.tolist()"
   ]
  },
  {
   "cell_type": "code",
   "execution_count": null,
   "id": "cadb8f80-f1f0-4bee-bfe7-776ff3fdaab5",
   "metadata": {
    "execution": {
     "iopub.status.busy": "2022-11-03T07:24:42.752394Z",
     "iopub.status.idle": "2022-11-03T07:24:42.752651Z",
     "shell.execute_reply": "2022-11-03T07:24:42.752539Z",
     "shell.execute_reply.started": "2022-11-03T07:24:42.752526Z"
    },
    "tags": []
   },
   "outputs": [],
   "source": [
    "df['vector'].head()"
   ]
  },
  {
   "cell_type": "code",
   "execution_count": null,
   "id": "c93f325f-20cb-4ea2-9b7b-b4c6435c7ff0",
   "metadata": {
    "execution": {
     "iopub.status.busy": "2022-11-03T07:24:42.753428Z",
     "iopub.status.idle": "2022-11-03T07:24:42.753695Z",
     "shell.execute_reply": "2022-11-03T07:24:42.753585Z",
     "shell.execute_reply.started": "2022-11-03T07:24:42.753573Z"
    },
    "tags": []
   },
   "outputs": [],
   "source": [
    "import pickle\n",
    "\n",
    "# Export to file!\n",
    "with open('arxiv_embeddings_10000.pkl', 'wb') as f:\n",
    "    data = pickle.dumps(df)\n",
    "    f.write(data)"
   ]
  },
  {
   "cell_type": "markdown",
   "id": "bd55ca6d-ce46-472c-83a5-c243607ecd54",
   "metadata": {},
   "source": [
    "# Load & Index Data in a redis"
   ]
  },
  {
   "cell_type": "code",
   "execution_count": 5,
   "id": "b7a39331-fb79-44f5-97c5-6d7872def4a7",
   "metadata": {
    "execution": {
     "iopub.execute_input": "2022-11-03T07:55:47.729973Z",
     "iopub.status.busy": "2022-11-03T07:55:47.729572Z",
     "iopub.status.idle": "2022-11-03T07:55:47.734646Z",
     "shell.execute_reply": "2022-11-03T07:55:47.733886Z",
     "shell.execute_reply.started": "2022-11-03T07:55:47.729946Z"
    },
    "tags": []
   },
   "outputs": [],
   "source": [
    "import typing as t\n",
    "import asyncio\n",
    "import numpy as np\n",
    "import pickle\n",
    "import redis.asyncio as redis\n",
    "from redis.commands.search.query import Query\n",
    "from redis.commands.search.field import TagField\n",
    "from redis.commands.search.field import VectorField\n",
    "from redis.commands.search.indexDefinition import IndexDefinition, IndexType\n",
    "from typing import Optional, Pattern\n",
    "from aredis_om import (\n",
    "    Field,\n",
    "    get_redis_connection,\n",
    "    Migrator,\n",
    "    HashModel\n",
    ")\n",
    "import os"
   ]
  },
  {
   "cell_type": "code",
   "execution_count": 16,
   "id": "d24ea20f-4bed-4779-b607-a07b387c13c0",
   "metadata": {
    "execution": {
     "iopub.execute_input": "2022-11-03T08:00:07.382021Z",
     "iopub.status.busy": "2022-11-03T08:00:07.381621Z",
     "iopub.status.idle": "2022-11-03T08:00:07.385463Z",
     "shell.execute_reply": "2022-11-03T08:00:07.384770Z",
     "shell.execute_reply.started": "2022-11-03T08:00:07.381994Z"
    },
    "tags": []
   },
   "outputs": [],
   "source": [
    "REDIS_URL = f\"redis://:ICe9oFTnhXr3s8oVz8CB1ljNu7jHZQiH@redis-16644.c282.east-us-mz.azure.cloud.redislabs.com:16644/arvix-dataset\""
   ]
  },
  {
   "cell_type": "code",
   "execution_count": null,
   "id": "f6da54f6-a725-4706-b6d5-32a37bbd5090",
   "metadata": {
    "execution": {
     "iopub.status.busy": "2022-11-03T07:24:42.756430Z",
     "iopub.status.idle": "2022-11-03T07:24:42.756691Z",
     "shell.execute_reply": "2022-11-03T07:24:42.756576Z",
     "shell.execute_reply.started": "2022-11-03T07:24:42.756563Z"
    },
    "tags": []
   },
   "outputs": [],
   "source": [
    "def read_paper_df() -> t.List:\n",
    "    with open(\"arxiv_embeddings_10000.pkl\", \"rb\") as f:\n",
    "        df = pickle.load(f)\n",
    "    return df"
   ]
  },
  {
   "cell_type": "code",
   "execution_count": null,
   "id": "206d7f23-faff-4c4f-9971-61ce3a5149c2",
   "metadata": {
    "execution": {
     "iopub.status.busy": "2022-11-03T07:24:42.757970Z",
     "iopub.status.idle": "2022-11-03T07:24:42.758236Z",
     "shell.execute_reply": "2022-11-03T07:24:42.758120Z",
     "shell.execute_reply.started": "2022-11-03T07:24:42.758108Z"
    },
    "tags": []
   },
   "outputs": [],
   "source": [
    "async def load_vectors(n, redis_conn, *papers):\n",
    "    semaphore = asyncio.Semaphore(n)\n",
    "    async def load_paper(paper: dict):\n",
    "        async with semaphore:\n",
    "            # Prep the input dictionary for Redis storage\n",
    "            key = \"paper_vector:\" + paper['id']\n",
    "            paper['paper_id'] = paper.pop('id')\n",
    "            paper['vector'] = np.array(paper['vector'], dtype=np.float32).tobytes()\n",
    "            paper['categories'] = paper['categories'].replace(\",\", \"|\")\n",
    "            # Store in Redis\n",
    "            await redis_conn.hset(key, mapping=paper)\n",
    "    # Gather results with concurrency\n",
    "    await asyncio.gather(*[load_paper(p) for p in papers])"
   ]
  },
  {
   "cell_type": "markdown",
   "id": "348337f8-7e2b-4da0-b244-60afce4d2cfc",
   "metadata": {
    "tags": []
   },
   "source": [
    "### Load and Index ArXiv Dataset"
   ]
  },
  {
   "cell_type": "code",
   "execution_count": null,
   "id": "8456bf0b-9d1f-4d62-91b9-a57e1cd3af81",
   "metadata": {
    "execution": {
     "iopub.status.busy": "2022-11-03T07:24:42.759004Z",
     "iopub.status.idle": "2022-11-03T07:24:42.759263Z",
     "shell.execute_reply": "2022-11-03T07:24:42.759150Z",
     "shell.execute_reply.started": "2022-11-03T07:24:42.759137Z"
    },
    "tags": []
   },
   "outputs": [],
   "source": [
    "def create_hnsw(\n",
    "    self,\n",
    "    *fields,\n",
    "    redis_conn: redis,\n",
    "    number_of_vectors: int,\n",
    "    prefix: str,\n",
    "    distance_metric: str='COSINE'\n",
    "):\n",
    "    \n",
    "    vector_field = VectorField(\n",
    "        \"vector\",\n",
    "        \"HNSW\", {\n",
    "            \"TYPE\": \"FLOAT32\",\n",
    "            \"DIM\": 768,\n",
    "            \"DISTANCE_METRIC\": distance_metric,\n",
    "            \"INITIAL_CAP\": number_of_vectors,\n",
    "        }\n",
    "    )\n",
    "async def _create(\n",
    "    self,\n",
    "    *fields,\n",
    "    redis_conn: redis,\n",
    "    prefix: str\n",
    "):\n",
    "    # Create Index\n",
    "    await redis_conn.ft(INDEX_NAME).create_index(\n",
    "        fields = fields,\n",
    "        definition= IndexDefinition(prefix=[prefix], index_type=IndexType.HASH)\n",
    "    )"
   ]
  },
  {
   "cell_type": "code",
   "execution_count": null,
   "id": "444a7c1e-e7bb-47db-8866-d82cec2da938",
   "metadata": {
    "execution": {
     "iopub.status.busy": "2022-11-03T07:24:42.760054Z",
     "iopub.status.idle": "2022-11-03T07:24:42.760309Z",
     "shell.execute_reply": "2022-11-03T07:24:42.760197Z",
     "shell.execute_reply.started": "2022-11-03T07:24:42.760185Z"
    },
    "tags": []
   },
   "outputs": [],
   "source": [
    "INDEX_NAME = \"Papers\""
   ]
  },
  {
   "cell_type": "code",
   "execution_count": 15,
   "id": "666e52c0-d257-488a-9f67-2d2a1d3f831d",
   "metadata": {
    "execution": {
     "iopub.execute_input": "2022-11-03T07:58:53.568217Z",
     "iopub.status.busy": "2022-11-03T07:58:53.567735Z",
     "iopub.status.idle": "2022-11-03T07:58:53.713093Z",
     "shell.execute_reply": "2022-11-03T07:58:53.711981Z",
     "shell.execute_reply.started": "2022-11-03T07:58:53.568182Z"
    },
    "tags": []
   },
   "outputs": [
    {
     "ename": "ResponseError",
     "evalue": "WRONGPASS invalid username-password pair",
     "output_type": "error",
     "traceback": [
      "\u001b[0;31m---------------------------------------------------------------------------\u001b[0m",
      "\u001b[0;31mResponseError\u001b[0m                             Traceback (most recent call last)",
      "Cell \u001b[0;32mIn [15], line 5\u001b[0m\n\u001b[1;32m      2\u001b[0m categories_field \u001b[38;5;241m=\u001b[39m TagField(\u001b[38;5;124m\"\u001b[39m\u001b[38;5;124mcategories\u001b[39m\u001b[38;5;124m\"\u001b[39m, separator \u001b[38;5;241m=\u001b[39m \u001b[38;5;124m\"\u001b[39m\u001b[38;5;124m|\u001b[39m\u001b[38;5;124m\"\u001b[39m)\n\u001b[1;32m      3\u001b[0m year_field \u001b[38;5;241m=\u001b[39m TagField(\u001b[38;5;124m\"\u001b[39m\u001b[38;5;124myear\u001b[39m\u001b[38;5;124m\"\u001b[39m, separator \u001b[38;5;241m=\u001b[39m \u001b[38;5;124m\"\u001b[39m\u001b[38;5;124m|\u001b[39m\u001b[38;5;124m\"\u001b[39m)\n\u001b[0;32m----> 5\u001b[0m \u001b[38;5;28;01mif\u001b[39;00m \u001b[38;5;28;01mawait\u001b[39;00m redis_conn\u001b[38;5;241m.\u001b[39mdbsize() \u001b[38;5;241m>\u001b[39m \u001b[38;5;241m300\u001b[39m:\n\u001b[1;32m      6\u001b[0m     \u001b[38;5;28mprint\u001b[39m(\u001b[38;5;124m\"\u001b[39m\u001b[38;5;124mPapers already loaded\u001b[39m\u001b[38;5;124m\"\u001b[39m)\n\u001b[1;32m      8\u001b[0m \u001b[38;5;28;01melse\u001b[39;00m:\n",
      "File \u001b[0;32m/opt/saturncloud/envs/saturn/lib/python3.9/site-packages/redis/asyncio/client.py:484\u001b[0m, in \u001b[0;36mRedis.execute_command\u001b[0;34m(self, *args, **options)\u001b[0m\n\u001b[1;32m    482\u001b[0m pool \u001b[38;5;241m=\u001b[39m \u001b[38;5;28mself\u001b[39m\u001b[38;5;241m.\u001b[39mconnection_pool\n\u001b[1;32m    483\u001b[0m command_name \u001b[38;5;241m=\u001b[39m args[\u001b[38;5;241m0\u001b[39m]\n\u001b[0;32m--> 484\u001b[0m conn \u001b[38;5;241m=\u001b[39m \u001b[38;5;28mself\u001b[39m\u001b[38;5;241m.\u001b[39mconnection \u001b[38;5;129;01mor\u001b[39;00m \u001b[38;5;28;01mawait\u001b[39;00m pool\u001b[38;5;241m.\u001b[39mget_connection(command_name, \u001b[38;5;241m*\u001b[39m\u001b[38;5;241m*\u001b[39moptions)\n\u001b[1;32m    486\u001b[0m \u001b[38;5;28;01mtry\u001b[39;00m:\n\u001b[1;32m    487\u001b[0m     \u001b[38;5;28;01mreturn\u001b[39;00m \u001b[38;5;28;01mawait\u001b[39;00m conn\u001b[38;5;241m.\u001b[39mretry\u001b[38;5;241m.\u001b[39mcall_with_retry(\n\u001b[1;32m    488\u001b[0m         \u001b[38;5;28;01mlambda\u001b[39;00m: \u001b[38;5;28mself\u001b[39m\u001b[38;5;241m.\u001b[39m_send_command_parse_response(\n\u001b[1;32m    489\u001b[0m             conn, command_name, \u001b[38;5;241m*\u001b[39margs, \u001b[38;5;241m*\u001b[39m\u001b[38;5;241m*\u001b[39moptions\n\u001b[1;32m    490\u001b[0m         ),\n\u001b[1;32m    491\u001b[0m         \u001b[38;5;28;01mlambda\u001b[39;00m error: \u001b[38;5;28mself\u001b[39m\u001b[38;5;241m.\u001b[39m_disconnect_raise(conn, error),\n\u001b[1;32m    492\u001b[0m     )\n",
      "File \u001b[0;32m/opt/saturncloud/envs/saturn/lib/python3.9/site-packages/redis/asyncio/connection.py:1516\u001b[0m, in \u001b[0;36mConnectionPool.get_connection\u001b[0;34m(self, command_name, *keys, **options)\u001b[0m\n\u001b[1;32m   1512\u001b[0m     \u001b[38;5;28mself\u001b[39m\u001b[38;5;241m.\u001b[39m_in_use_connections\u001b[38;5;241m.\u001b[39madd(connection)\n\u001b[1;32m   1514\u001b[0m \u001b[38;5;28;01mtry\u001b[39;00m:\n\u001b[1;32m   1515\u001b[0m     \u001b[38;5;66;03m# ensure this connection is connected to Redis\u001b[39;00m\n\u001b[0;32m-> 1516\u001b[0m     \u001b[38;5;28;01mawait\u001b[39;00m connection\u001b[38;5;241m.\u001b[39mconnect()\n\u001b[1;32m   1517\u001b[0m     \u001b[38;5;66;03m# connections that the pool provides should be ready to send\u001b[39;00m\n\u001b[1;32m   1518\u001b[0m     \u001b[38;5;66;03m# a command. if not, the connection was either returned to the\u001b[39;00m\n\u001b[1;32m   1519\u001b[0m     \u001b[38;5;66;03m# pool before all data has been read or the socket has been\u001b[39;00m\n\u001b[1;32m   1520\u001b[0m     \u001b[38;5;66;03m# closed. either way, reconnect and verify everything is good.\u001b[39;00m\n\u001b[1;32m   1521\u001b[0m     \u001b[38;5;28;01mtry\u001b[39;00m:\n",
      "File \u001b[0;32m/opt/saturncloud/envs/saturn/lib/python3.9/site-packages/redis/asyncio/connection.py:722\u001b[0m, in \u001b[0;36mConnection.connect\u001b[0;34m(self)\u001b[0m\n\u001b[1;32m    719\u001b[0m \u001b[38;5;28;01mtry\u001b[39;00m:\n\u001b[1;32m    720\u001b[0m     \u001b[38;5;28;01mif\u001b[39;00m \u001b[38;5;129;01mnot\u001b[39;00m \u001b[38;5;28mself\u001b[39m\u001b[38;5;241m.\u001b[39mredis_connect_func:\n\u001b[1;32m    721\u001b[0m         \u001b[38;5;66;03m# Use the default on_connect function\u001b[39;00m\n\u001b[0;32m--> 722\u001b[0m         \u001b[38;5;28;01mawait\u001b[39;00m \u001b[38;5;28mself\u001b[39m\u001b[38;5;241m.\u001b[39mon_connect()\n\u001b[1;32m    723\u001b[0m     \u001b[38;5;28;01melse\u001b[39;00m:\n\u001b[1;32m    724\u001b[0m         \u001b[38;5;66;03m# Use the passed function redis_connect_func\u001b[39;00m\n\u001b[1;32m    725\u001b[0m         \u001b[38;5;28;01mawait\u001b[39;00m \u001b[38;5;28mself\u001b[39m\u001b[38;5;241m.\u001b[39mredis_connect_func(\u001b[38;5;28mself\u001b[39m) \u001b[38;5;28;01mif\u001b[39;00m asyncio\u001b[38;5;241m.\u001b[39miscoroutinefunction(\n\u001b[1;32m    726\u001b[0m             \u001b[38;5;28mself\u001b[39m\u001b[38;5;241m.\u001b[39mredis_connect_func\n\u001b[1;32m    727\u001b[0m         ) \u001b[38;5;28;01melse\u001b[39;00m \u001b[38;5;28mself\u001b[39m\u001b[38;5;241m.\u001b[39mredis_connect_func(\u001b[38;5;28mself\u001b[39m)\n",
      "File \u001b[0;32m/opt/saturncloud/envs/saturn/lib/python3.9/site-packages/redis/asyncio/connection.py:795\u001b[0m, in \u001b[0;36mConnection.on_connect\u001b[0;34m(self)\u001b[0m\n\u001b[1;32m    792\u001b[0m \u001b[38;5;28;01mawait\u001b[39;00m \u001b[38;5;28mself\u001b[39m\u001b[38;5;241m.\u001b[39msend_command(\u001b[38;5;124m\"\u001b[39m\u001b[38;5;124mAUTH\u001b[39m\u001b[38;5;124m\"\u001b[39m, \u001b[38;5;241m*\u001b[39mauth_args, check_health\u001b[38;5;241m=\u001b[39m\u001b[38;5;28;01mFalse\u001b[39;00m)\n\u001b[1;32m    794\u001b[0m \u001b[38;5;28;01mtry\u001b[39;00m:\n\u001b[0;32m--> 795\u001b[0m     auth_response \u001b[38;5;241m=\u001b[39m \u001b[38;5;28;01mawait\u001b[39;00m \u001b[38;5;28mself\u001b[39m\u001b[38;5;241m.\u001b[39mread_response()\n\u001b[1;32m    796\u001b[0m \u001b[38;5;28;01mexcept\u001b[39;00m AuthenticationWrongNumberOfArgsError:\n\u001b[1;32m    797\u001b[0m     \u001b[38;5;66;03m# a username and password were specified but the Redis\u001b[39;00m\n\u001b[1;32m    798\u001b[0m     \u001b[38;5;66;03m# server seems to be < 6.0.0 which expects a single password\u001b[39;00m\n\u001b[1;32m    799\u001b[0m     \u001b[38;5;66;03m# arg. retry auth with just the password.\u001b[39;00m\n\u001b[1;32m    800\u001b[0m     \u001b[38;5;66;03m# https://github.com/andymccurdy/redis-py/issues/1274\u001b[39;00m\n\u001b[1;32m    801\u001b[0m     \u001b[38;5;28;01mawait\u001b[39;00m \u001b[38;5;28mself\u001b[39m\u001b[38;5;241m.\u001b[39msend_command(\u001b[38;5;124m\"\u001b[39m\u001b[38;5;124mAUTH\u001b[39m\u001b[38;5;124m\"\u001b[39m, \u001b[38;5;28mself\u001b[39m\u001b[38;5;241m.\u001b[39mpassword, check_health\u001b[38;5;241m=\u001b[39m\u001b[38;5;28;01mFalse\u001b[39;00m)\n",
      "File \u001b[0;32m/opt/saturncloud/envs/saturn/lib/python3.9/site-packages/redis/asyncio/connection.py:954\u001b[0m, in \u001b[0;36mConnection.read_response\u001b[0;34m(self, disable_decoding)\u001b[0m\n\u001b[1;32m    951\u001b[0m     \u001b[38;5;28mself\u001b[39m\u001b[38;5;241m.\u001b[39mnext_health_check \u001b[38;5;241m=\u001b[39m func()\u001b[38;5;241m.\u001b[39mtime() \u001b[38;5;241m+\u001b[39m \u001b[38;5;28mself\u001b[39m\u001b[38;5;241m.\u001b[39mhealth_check_interval\n\u001b[1;32m    953\u001b[0m \u001b[38;5;28;01mif\u001b[39;00m \u001b[38;5;28misinstance\u001b[39m(response, ResponseError):\n\u001b[0;32m--> 954\u001b[0m     \u001b[38;5;28;01mraise\u001b[39;00m response \u001b[38;5;28;01mfrom\u001b[39;00m \u001b[38;5;28mNone\u001b[39m\n\u001b[1;32m    955\u001b[0m \u001b[38;5;28;01mreturn\u001b[39;00m response\n",
      "\u001b[0;31mResponseError\u001b[0m: WRONGPASS invalid username-password pair"
     ]
    }
   ],
   "source": [
    "redis_conn = redis.from_url(REDIS_URL)\n",
    "categories_field = TagField(\"categories\", separator = \"|\")\n",
    "year_field = TagField(\"year\", separator = \"|\")\n",
    "\n",
    "if await redis_conn.dbsize() > 300:\n",
    "    print(\"Papers already loaded\")\n",
    "\n",
    "else:\n",
    "    papers = read_paper_df()\n",
    "    papers = papers.to_dict('records')\n",
    "    \n",
    "    \n",
    "    await load_vectors(200, redis_conn,\n",
    "                       *papers)\n",
    "\n",
    "    create_hnsw(\n",
    "        categories_field, \n",
    "        year_field, \n",
    "        redis_conn=redis_conn, \n",
    "        number_of_vectors=len(papers), \n",
    "        prefix=\"paper_vector:\", \n",
    "        distance_metric=\"IP\",\n",
    "               )\n",
    "    print(\"Papers loaded & Indexed!\")\n",
    "    \n",
    "    await _create(\n",
    "        categories_field, \n",
    "        year_field, \n",
    "        redis_conn=redis_conn, \n",
    "        prefix=\"paper_vector:\",\n",
    "    )\n",
    "    print(\"Index_name Created!\")"
   ]
  },
  {
   "cell_type": "markdown",
   "id": "ea279761-d600-4897-860e-875198636fda",
   "metadata": {},
   "source": [
    "# Query The Top 5 papers"
   ]
  },
  {
   "cell_type": "code",
   "execution_count": null,
   "id": "672ca7f6-2af0-4b22-861a-e9d4ce2160ff",
   "metadata": {
    "execution": {
     "iopub.status.busy": "2022-11-03T07:24:42.762382Z",
     "iopub.status.idle": "2022-11-03T07:24:42.762639Z",
     "shell.execute_reply": "2022-11-03T07:24:42.762527Z",
     "shell.execute_reply.started": "2022-11-03T07:24:42.762515Z"
    }
   },
   "outputs": [],
   "source": [
    "paper_vector_key = \"paper_vector:\" + paper['id']\n",
    "vector = await redis_conn.hget(paper_vector_key, \"vector\")\n"
   ]
  },
  {
   "cell_type": "code",
   "execution_count": null,
   "id": "42bf731a-0aad-4cb3-80bf-eb3f632668d2",
   "metadata": {
    "execution": {
     "iopub.status.busy": "2022-11-03T07:24:42.763493Z",
     "iopub.status.idle": "2022-11-03T07:24:42.763777Z",
     "shell.execute_reply": "2022-11-03T07:24:42.763660Z",
     "shell.execute_reply.started": "2022-11-03T07:24:42.763648Z"
    },
    "tags": []
   },
   "outputs": [],
   "source": [
    "topK = 5\n",
    "\n",
    "Search_query = 'Best feature store practices and techniques for machine learning models'\n",
    "query_vector = model.encode(Search_query).astype(np.float32).tobytes()\n",
    "\n",
    "query_param = {\"vec_param\": query_vector}\n",
    "query = Query(f'*=>[KNN {topK} @vector $vec_param AS vector_score]').sort_by(\"vector_score\").paging(0, topK).return_fields(\"paper_id\", \"vector_score\").dialect(2)\n",
    "query_param = {\"vec_param\": query_vector}\n",
    "\n",
    "results = await redis_conn.ft(INDEX_NAME).search(query, query_params = query_param)\n",
    "\n",
    "#print Similar paper found\n",
    "for p in results.docs:\n",
    "    print ('paper_id = ' + p.paper_id)\n",
    "    print ('Score = ' + p.vector_score)    \n"
   ]
  },
  {
   "cell_type": "code",
   "execution_count": null,
   "id": "2b13d7ab-6192-43e7-8d2d-170f9f0c0d03",
   "metadata": {},
   "outputs": [],
   "source": []
  }
 ],
 "metadata": {
  "kernelspec": {
   "display_name": "saturn (Python 3)",
   "language": "python",
   "name": "python3"
  },
  "language_info": {
   "codemirror_mode": {
    "name": "ipython",
    "version": 3
   },
   "file_extension": ".py",
   "mimetype": "text/x-python",
   "name": "python",
   "nbconvert_exporter": "python",
   "pygments_lexer": "ipython3",
   "version": "3.9.13"
  }
 },
 "nbformat": 4,
 "nbformat_minor": 5
}
