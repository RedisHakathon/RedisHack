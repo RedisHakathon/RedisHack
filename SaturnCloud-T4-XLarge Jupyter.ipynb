{
 "cells": [
  {
   "cell_type": "markdown",
   "id": "1f4f0fea-b645-4dd5-a8a5-fbcf2d993272",
   "metadata": {},
   "source": [
    "# Download Arxiv from Kaggle"
   ]
  },
  {
   "cell_type": "code",
   "execution_count": 3,
   "id": "9245bf11-a45e-46cd-8623-bb0c015efaf9",
   "metadata": {
    "execution": {
     "iopub.execute_input": "2022-11-03T08:07:18.856389Z",
     "iopub.status.busy": "2022-11-03T08:07:18.855990Z",
     "iopub.status.idle": "2022-11-03T08:07:22.298152Z",
     "shell.execute_reply": "2022-11-03T08:07:22.297381Z",
     "shell.execute_reply.started": "2022-11-03T08:07:18.856359Z"
    },
    "tags": []
   },
   "outputs": [
    {
     "name": "stdout",
     "output_type": "stream",
     "text": [
      "Requirement already satisfied: opendatasets in /opt/saturncloud/envs/saturn/lib/python3.9/site-packages (from -r requirements.txt (line 1)) (0.1.22)\n",
      "Requirement already satisfied: sentence-transformers in /opt/saturncloud/envs/saturn/lib/python3.9/site-packages (from -r requirements.txt (line 2)) (2.2.2)\n",
      "Requirement already satisfied: redis in /opt/saturncloud/envs/saturn/lib/python3.9/site-packages (from -r requirements.txt (line 3)) (4.3.4)\n",
      "Requirement already satisfied: redis-om in /opt/saturncloud/envs/saturn/lib/python3.9/site-packages (from -r requirements.txt (line 4)) (0.1.0)\n",
      "Requirement already satisfied: kaggle in /opt/saturncloud/envs/saturn/lib/python3.9/site-packages (from opendatasets->-r requirements.txt (line 1)) (1.5.12)\n",
      "Requirement already satisfied: tqdm in /opt/saturncloud/envs/saturn/lib/python3.9/site-packages (from opendatasets->-r requirements.txt (line 1)) (4.64.1)\n",
      "Requirement already satisfied: click in /opt/saturncloud/envs/saturn/lib/python3.9/site-packages (from opendatasets->-r requirements.txt (line 1)) (8.0.4)\n",
      "Requirement already satisfied: numpy in /opt/saturncloud/envs/saturn/lib/python3.9/site-packages (from sentence-transformers->-r requirements.txt (line 2)) (1.22.4)\n",
      "Requirement already satisfied: scipy in /opt/saturncloud/envs/saturn/lib/python3.9/site-packages (from sentence-transformers->-r requirements.txt (line 2)) (1.9.1)\n",
      "Requirement already satisfied: torch>=1.6.0 in /opt/saturncloud/envs/saturn/lib/python3.9/site-packages (from sentence-transformers->-r requirements.txt (line 2)) (1.13.0)\n",
      "Requirement already satisfied: nltk in /opt/saturncloud/envs/saturn/lib/python3.9/site-packages (from sentence-transformers->-r requirements.txt (line 2)) (3.7)\n",
      "Requirement already satisfied: transformers<5.0.0,>=4.6.0 in /opt/saturncloud/envs/saturn/lib/python3.9/site-packages (from sentence-transformers->-r requirements.txt (line 2)) (4.24.0)\n",
      "Requirement already satisfied: sentencepiece in /opt/saturncloud/envs/saturn/lib/python3.9/site-packages (from sentence-transformers->-r requirements.txt (line 2)) (0.1.97)\n",
      "Requirement already satisfied: scikit-learn in /opt/saturncloud/envs/saturn/lib/python3.9/site-packages (from sentence-transformers->-r requirements.txt (line 2)) (1.1.2)\n",
      "Requirement already satisfied: huggingface-hub>=0.4.0 in /opt/saturncloud/envs/saturn/lib/python3.9/site-packages (from sentence-transformers->-r requirements.txt (line 2)) (0.10.1)\n",
      "Requirement already satisfied: torchvision in /opt/saturncloud/envs/saturn/lib/python3.9/site-packages (from sentence-transformers->-r requirements.txt (line 2)) (0.14.0)\n",
      "Requirement already satisfied: async-timeout>=4.0.2 in /opt/saturncloud/envs/saturn/lib/python3.9/site-packages (from redis->-r requirements.txt (line 3)) (4.0.2)\n",
      "Requirement already satisfied: packaging>=20.4 in /opt/saturncloud/envs/saturn/lib/python3.9/site-packages (from redis->-r requirements.txt (line 3)) (21.3)\n",
      "Requirement already satisfied: deprecated>=1.2.3 in /opt/saturncloud/envs/saturn/lib/python3.9/site-packages (from redis->-r requirements.txt (line 3)) (1.2.13)\n",
      "Requirement already satisfied: more-itertools<9.0.0,>=8.14.0 in /opt/saturncloud/envs/saturn/lib/python3.9/site-packages (from redis-om->-r requirements.txt (line 4)) (8.14.0)\n",
      "Requirement already satisfied: typing-extensions<5.0.0,>=4.4.0 in /opt/saturncloud/envs/saturn/lib/python3.9/site-packages (from redis-om->-r requirements.txt (line 4)) (4.4.0)\n",
      "Requirement already satisfied: cleo==1.0.0a5 in /opt/saturncloud/envs/saturn/lib/python3.9/site-packages (from redis-om->-r requirements.txt (line 4)) (1.0.0a5)\n",
      "Requirement already satisfied: python-ulid<2.0.0,>=1.0.3 in /opt/saturncloud/envs/saturn/lib/python3.9/site-packages (from redis-om->-r requirements.txt (line 4)) (1.1.0)\n",
      "Requirement already satisfied: pydantic<2.0.0,>=1.10.2 in /opt/saturncloud/envs/saturn/lib/python3.9/site-packages (from redis-om->-r requirements.txt (line 4)) (1.10.2)\n",
      "Requirement already satisfied: pptree<4.0,>=3.1 in /opt/saturncloud/envs/saturn/lib/python3.9/site-packages (from redis-om->-r requirements.txt (line 4)) (3.1)\n",
      "Requirement already satisfied: hiredis<3.0.0,>=2.0.0 in /opt/saturncloud/envs/saturn/lib/python3.9/site-packages (from redis-om->-r requirements.txt (line 4)) (2.0.0)\n",
      "Requirement already satisfied: types-redis<5.0.0,>=3.5.9 in /opt/saturncloud/envs/saturn/lib/python3.9/site-packages (from redis-om->-r requirements.txt (line 4)) (4.3.21.3)\n",
      "Requirement already satisfied: aioredis<3.0.0,>=2.0.0 in /opt/saturncloud/envs/saturn/lib/python3.9/site-packages (from redis-om->-r requirements.txt (line 4)) (2.0.1)\n",
      "Requirement already satisfied: crashtest<0.4.0,>=0.3.1 in /opt/saturncloud/envs/saturn/lib/python3.9/site-packages (from cleo==1.0.0a5->redis-om->-r requirements.txt (line 4)) (0.3.1)\n",
      "Requirement already satisfied: pylev<2.0.0,>=1.3.0 in /opt/saturncloud/envs/saturn/lib/python3.9/site-packages (from cleo==1.0.0a5->redis-om->-r requirements.txt (line 4)) (1.4.0)\n",
      "Requirement already satisfied: wrapt<2,>=1.10 in /opt/saturncloud/envs/saturn/lib/python3.9/site-packages (from deprecated>=1.2.3->redis->-r requirements.txt (line 3)) (1.14.1)\n",
      "Requirement already satisfied: filelock in /opt/saturncloud/envs/saturn/lib/python3.9/site-packages (from huggingface-hub>=0.4.0->sentence-transformers->-r requirements.txt (line 2)) (3.8.0)\n",
      "Requirement already satisfied: pyyaml>=5.1 in /opt/saturncloud/envs/saturn/lib/python3.9/site-packages (from huggingface-hub>=0.4.0->sentence-transformers->-r requirements.txt (line 2)) (6.0)\n",
      "Requirement already satisfied: requests in /opt/saturncloud/envs/saturn/lib/python3.9/site-packages (from huggingface-hub>=0.4.0->sentence-transformers->-r requirements.txt (line 2)) (2.28.1)\n",
      "Requirement already satisfied: pyparsing!=3.0.5,>=2.0.2 in /opt/saturncloud/envs/saturn/lib/python3.9/site-packages (from packaging>=20.4->redis->-r requirements.txt (line 3)) (3.0.9)\n",
      "Requirement already satisfied: nvidia-cublas-cu11==11.10.3.66 in /opt/saturncloud/envs/saturn/lib/python3.9/site-packages (from torch>=1.6.0->sentence-transformers->-r requirements.txt (line 2)) (11.10.3.66)\n",
      "Requirement already satisfied: nvidia-cudnn-cu11==8.5.0.96 in /opt/saturncloud/envs/saturn/lib/python3.9/site-packages (from torch>=1.6.0->sentence-transformers->-r requirements.txt (line 2)) (8.5.0.96)\n",
      "Requirement already satisfied: nvidia-cuda-runtime-cu11==11.7.99 in /opt/saturncloud/envs/saturn/lib/python3.9/site-packages (from torch>=1.6.0->sentence-transformers->-r requirements.txt (line 2)) (11.7.99)\n",
      "Requirement already satisfied: nvidia-cuda-nvrtc-cu11==11.7.99 in /opt/saturncloud/envs/saturn/lib/python3.9/site-packages (from torch>=1.6.0->sentence-transformers->-r requirements.txt (line 2)) (11.7.99)\n",
      "Requirement already satisfied: setuptools in /opt/saturncloud/envs/saturn/lib/python3.9/site-packages (from nvidia-cublas-cu11==11.10.3.66->torch>=1.6.0->sentence-transformers->-r requirements.txt (line 2)) (60.10.0)\n",
      "Requirement already satisfied: wheel in /opt/saturncloud/envs/saturn/lib/python3.9/site-packages (from nvidia-cublas-cu11==11.10.3.66->torch>=1.6.0->sentence-transformers->-r requirements.txt (line 2)) (0.37.1)\n",
      "Requirement already satisfied: tokenizers!=0.11.3,<0.14,>=0.11.1 in /opt/saturncloud/envs/saturn/lib/python3.9/site-packages (from transformers<5.0.0,>=4.6.0->sentence-transformers->-r requirements.txt (line 2)) (0.13.1)\n",
      "Requirement already satisfied: regex!=2019.12.17 in /opt/saturncloud/envs/saturn/lib/python3.9/site-packages (from transformers<5.0.0,>=4.6.0->sentence-transformers->-r requirements.txt (line 2)) (2022.10.31)\n",
      "Requirement already satisfied: six>=1.10 in /opt/saturncloud/envs/saturn/lib/python3.9/site-packages (from kaggle->opendatasets->-r requirements.txt (line 1)) (1.16.0)\n",
      "Requirement already satisfied: urllib3 in /opt/saturncloud/envs/saturn/lib/python3.9/site-packages (from kaggle->opendatasets->-r requirements.txt (line 1)) (1.26.11)\n",
      "Requirement already satisfied: certifi in /opt/saturncloud/envs/saturn/lib/python3.9/site-packages (from kaggle->opendatasets->-r requirements.txt (line 1)) (2022.9.24)\n",
      "Requirement already satisfied: python-dateutil in /opt/saturncloud/envs/saturn/lib/python3.9/site-packages (from kaggle->opendatasets->-r requirements.txt (line 1)) (2.8.2)\n",
      "Requirement already satisfied: python-slugify in /opt/saturncloud/envs/saturn/lib/python3.9/site-packages (from kaggle->opendatasets->-r requirements.txt (line 1)) (6.1.2)\n",
      "Requirement already satisfied: joblib in /opt/saturncloud/envs/saturn/lib/python3.9/site-packages (from nltk->sentence-transformers->-r requirements.txt (line 2)) (1.2.0)\n",
      "Requirement already satisfied: threadpoolctl>=2.0.0 in /opt/saturncloud/envs/saturn/lib/python3.9/site-packages (from scikit-learn->sentence-transformers->-r requirements.txt (line 2)) (3.1.0)\n",
      "Requirement already satisfied: pillow!=8.3.*,>=5.3.0 in /opt/saturncloud/envs/saturn/lib/python3.9/site-packages (from torchvision->sentence-transformers->-r requirements.txt (line 2)) (9.2.0)\n",
      "Requirement already satisfied: text-unidecode>=1.3 in /opt/saturncloud/envs/saturn/lib/python3.9/site-packages (from python-slugify->kaggle->opendatasets->-r requirements.txt (line 1)) (1.3)\n",
      "Requirement already satisfied: idna<4,>=2.5 in /opt/saturncloud/envs/saturn/lib/python3.9/site-packages (from requests->huggingface-hub>=0.4.0->sentence-transformers->-r requirements.txt (line 2)) (3.4)\n",
      "Requirement already satisfied: charset-normalizer<3,>=2 in /opt/saturncloud/envs/saturn/lib/python3.9/site-packages (from requests->huggingface-hub>=0.4.0->sentence-transformers->-r requirements.txt (line 2)) (2.1.1)\n"
     ]
    }
   ],
   "source": [
    "!pip install -r requirements.txt"
   ]
  },
  {
   "cell_type": "code",
   "execution_count": 4,
   "id": "31027a2e-fe6d-4dc5-90c1-cde4c38cc85b",
   "metadata": {
    "execution": {
     "iopub.execute_input": "2022-11-03T08:07:22.300051Z",
     "iopub.status.busy": "2022-11-03T08:07:22.299728Z",
     "iopub.status.idle": "2022-11-03T08:07:22.373688Z",
     "shell.execute_reply": "2022-11-03T08:07:22.372937Z",
     "shell.execute_reply.started": "2022-11-03T08:07:22.300027Z"
    },
    "tags": []
   },
   "outputs": [
    {
     "name": "stdout",
     "output_type": "stream",
     "text": [
      "Skipping, found downloaded files in \"./arxiv\" (use force=True to force download)\n"
     ]
    }
   ],
   "source": [
    "import opendatasets as od\n",
    "\n",
    "od.download(\"https://www.kaggle.com/datasets/Cornell-University/arxiv\")"
   ]
  },
  {
   "cell_type": "markdown",
   "id": "b5c849ff-52f7-4508-a239-f44ff1dc1021",
   "metadata": {},
   "source": [
    "# Clean The Data"
   ]
  },
  {
   "cell_type": "code",
   "execution_count": 5,
   "id": "52a7207d-ab1b-4fd9-a022-092a4c8667a0",
   "metadata": {
    "execution": {
     "iopub.execute_input": "2022-11-03T08:07:22.375206Z",
     "iopub.status.busy": "2022-11-03T08:07:22.374806Z",
     "iopub.status.idle": "2022-11-03T08:07:23.363419Z",
     "shell.execute_reply": "2022-11-03T08:07:23.362776Z",
     "shell.execute_reply.started": "2022-11-03T08:07:22.375153Z"
    },
    "tags": []
   },
   "outputs": [],
   "source": [
    "import json\n",
    "import pandas as pd\n",
    "import os\n",
    "import re\n",
    "import string\n",
    "\n",
    "\n",
    "DATA_PATH = \"arxiv-metadata-oai-snapshot.json\"\n",
    "YEAR_CUTOFF = 2012\n",
    "YEAR_PATTERN = r\"(19|20[0-9]{2})\"\n",
    "ML_CATEGORY = \"cs.LG\""
   ]
  },
  {
   "cell_type": "code",
   "execution_count": 6,
   "id": "576c693d-0f4e-4919-a8c2-dc690ac36c6c",
   "metadata": {
    "execution": {
     "iopub.execute_input": "2022-11-03T08:07:23.365246Z",
     "iopub.status.busy": "2022-11-03T08:07:23.364893Z",
     "iopub.status.idle": "2022-11-03T08:07:23.370954Z",
     "shell.execute_reply": "2022-11-03T08:07:23.370245Z",
     "shell.execute_reply.started": "2022-11-03T08:07:23.365224Z"
    },
    "tags": []
   },
   "outputs": [],
   "source": [
    "def process(paper: dict):\n",
    "    paper = json.loads(paper)\n",
    "    if paper['journal-ref']:\n",
    "        years = [int(year) for year in re.findall(YEAR_PATTERN, paper['journal-ref'])]\n",
    "        years = [year for year in years if (year <= 2022 and year >= 1991)]\n",
    "        year = min(years) if years else None\n",
    "    else:\n",
    "        year = None\n",
    "    return {\n",
    "        'id': paper['id'],\n",
    "        'title': paper['title'],\n",
    "        'year': year,\n",
    "        'authors': paper['authors'],\n",
    "        'categories': ','.join(paper['categories'].split(' ')),\n",
    "        'abstract': paper['abstract']\n",
    "    }\n",
    "\n",
    "def papers():\n",
    "    with open(DATA_PATH, 'r') as f:\n",
    "        for paper in f:\n",
    "            paper = process(paper)\n",
    "            if paper['year']:\n",
    "                if paper['year'] >= YEAR_CUTOFF and ML_CATEGORY in paper['categories']:\n",
    "                    yield paper"
   ]
  },
  {
   "cell_type": "code",
   "execution_count": 7,
   "id": "c639b2f0-bda4-450b-8328-21beff269a4d",
   "metadata": {
    "execution": {
     "iopub.execute_input": "2022-11-03T08:07:23.372365Z",
     "iopub.status.busy": "2022-11-03T08:07:23.372019Z",
     "iopub.status.idle": "2022-11-03T08:07:52.559724Z",
     "shell.execute_reply": "2022-11-03T08:07:52.558916Z",
     "shell.execute_reply.started": "2022-11-03T08:07:23.372335Z"
    },
    "tags": []
   },
   "outputs": [
    {
     "data": {
      "text/plain": [
       "11304"
      ]
     },
     "execution_count": 7,
     "metadata": {},
     "output_type": "execute_result"
    }
   ],
   "source": [
    "df = pd.DataFrame(papers())\n",
    "len(df)"
   ]
  },
  {
   "cell_type": "code",
   "execution_count": 8,
   "id": "97a8aeba-2692-4a39-a63f-299dc63d0f70",
   "metadata": {
    "execution": {
     "iopub.execute_input": "2022-11-03T08:07:52.561600Z",
     "iopub.status.busy": "2022-11-03T08:07:52.560924Z",
     "iopub.status.idle": "2022-11-03T08:07:52.578943Z",
     "shell.execute_reply": "2022-11-03T08:07:52.578429Z",
     "shell.execute_reply.started": "2022-11-03T08:07:52.561565Z"
    },
    "tags": []
   },
   "outputs": [
    {
     "data": {
      "text/html": [
       "<div>\n",
       "<style scoped>\n",
       "    .dataframe tbody tr th:only-of-type {\n",
       "        vertical-align: middle;\n",
       "    }\n",
       "\n",
       "    .dataframe tbody tr th {\n",
       "        vertical-align: top;\n",
       "    }\n",
       "\n",
       "    .dataframe thead th {\n",
       "        text-align: right;\n",
       "    }\n",
       "</style>\n",
       "<table border=\"1\" class=\"dataframe\">\n",
       "  <thead>\n",
       "    <tr style=\"text-align: right;\">\n",
       "      <th></th>\n",
       "      <th>id</th>\n",
       "      <th>title</th>\n",
       "      <th>year</th>\n",
       "      <th>authors</th>\n",
       "      <th>categories</th>\n",
       "      <th>abstract</th>\n",
       "    </tr>\n",
       "  </thead>\n",
       "  <tbody>\n",
       "    <tr>\n",
       "      <th>0</th>\n",
       "      <td>0705.4485</td>\n",
       "      <td>Mixed membership stochastic blockmodels</td>\n",
       "      <td>2014</td>\n",
       "      <td>Edoardo M Airoldi, David M Blei, Stephen E Fie...</td>\n",
       "      <td>stat.ME,cs.LG,math.ST,physics.soc-ph,stat.ML,s...</td>\n",
       "      <td>Observations consisting of measurements on r...</td>\n",
       "    </tr>\n",
       "    <tr>\n",
       "      <th>1</th>\n",
       "      <td>0808.3231</td>\n",
       "      <td>Multi-Instance Multi-Label Learning</td>\n",
       "      <td>2012</td>\n",
       "      <td>Zhi-Hua Zhou, Min-Ling Zhang, Sheng-Jun Huang,...</td>\n",
       "      <td>cs.LG,cs.AI</td>\n",
       "      <td>In this paper, we propose the MIML (Multi-In...</td>\n",
       "    </tr>\n",
       "    <tr>\n",
       "      <th>2</th>\n",
       "      <td>0811.4413</td>\n",
       "      <td>A Spectral Algorithm for Learning Hidden Marko...</td>\n",
       "      <td>2012</td>\n",
       "      <td>Daniel Hsu, Sham M. Kakade, Tong Zhang</td>\n",
       "      <td>cs.LG,cs.AI</td>\n",
       "      <td>Hidden Markov Models (HMMs) are one of the m...</td>\n",
       "    </tr>\n",
       "    <tr>\n",
       "      <th>3</th>\n",
       "      <td>0903.4817</td>\n",
       "      <td>An Exponential Lower Bound on the Complexity o...</td>\n",
       "      <td>2012</td>\n",
       "      <td>Bernd G\\\"artner, Martin Jaggi and Cl\\'ement Maria</td>\n",
       "      <td>cs.LG,cs.CG,cs.CV,math.OC,stat.ML</td>\n",
       "      <td>For a variety of regularized optimization pr...</td>\n",
       "    </tr>\n",
       "    <tr>\n",
       "      <th>4</th>\n",
       "      <td>0909.5175</td>\n",
       "      <td>Bounding the Sensitivity of Polynomial Thresho...</td>\n",
       "      <td>2013</td>\n",
       "      <td>Prahladh Harsha, Adam Klivans, Raghu Meka</td>\n",
       "      <td>cs.CC,cs.LG</td>\n",
       "      <td>We give the first non-trivial upper bounds o...</td>\n",
       "    </tr>\n",
       "    <tr>\n",
       "      <th>5</th>\n",
       "      <td>0912.4884</td>\n",
       "      <td>An Invariance Principle for Polytopes</td>\n",
       "      <td>2012</td>\n",
       "      <td>Prahladh Harsha, Adam Klivans and Raghu Meka</td>\n",
       "      <td>cs.CC,cs.CG,cs.DM,cs.LG,math.PR</td>\n",
       "      <td>Let X be randomly chosen from {-1,1}^n, and ...</td>\n",
       "    </tr>\n",
       "    <tr>\n",
       "      <th>6</th>\n",
       "      <td>1004.4668</td>\n",
       "      <td>Evolutionary Inference for Function-valued Tra...</td>\n",
       "      <td>2012</td>\n",
       "      <td>Nick S. Jones and John Moriarty</td>\n",
       "      <td>q-bio.QM,cs.LG,physics.data-an,stat.ML</td>\n",
       "      <td>Biological data objects often have both of t...</td>\n",
       "    </tr>\n",
       "    <tr>\n",
       "      <th>7</th>\n",
       "      <td>1005.4717</td>\n",
       "      <td>Smoothing proximal gradient method for general...</td>\n",
       "      <td>2012</td>\n",
       "      <td>Xi Chen, Qihang Lin, Seyoung Kim, Jaime G. Car...</td>\n",
       "      <td>stat.ML,cs.LG,math.OC,stat.AP,stat.CO</td>\n",
       "      <td>We study the problem of estimating high-dime...</td>\n",
       "    </tr>\n",
       "    <tr>\n",
       "      <th>8</th>\n",
       "      <td>1005.5141</td>\n",
       "      <td>On Recursive Edit Distance Kernels with Applic...</td>\n",
       "      <td>2014</td>\n",
       "      <td>Pierre-Fran\\c{c}ois Marteau (IRISA), Sylvie Gi...</td>\n",
       "      <td>cs.LG,cs.IR</td>\n",
       "      <td>This paper proposes some extensions to the w...</td>\n",
       "    </tr>\n",
       "    <tr>\n",
       "      <th>9</th>\n",
       "      <td>1006.2513</td>\n",
       "      <td>On the Achievability of Cram\\'er-Rao Bound In ...</td>\n",
       "      <td>2012</td>\n",
       "      <td>Rad Niazadeh, Masoud Babaie-Zadeh and Christia...</td>\n",
       "      <td>cs.IT,cs.LG,math.IT</td>\n",
       "      <td>Recently, it has been proved in Babadi et al...</td>\n",
       "    </tr>\n",
       "  </tbody>\n",
       "</table>\n",
       "</div>"
      ],
      "text/plain": [
       "          id                                              title  year  \\\n",
       "0  0705.4485            Mixed membership stochastic blockmodels  2014   \n",
       "1  0808.3231                Multi-Instance Multi-Label Learning  2012   \n",
       "2  0811.4413  A Spectral Algorithm for Learning Hidden Marko...  2012   \n",
       "3  0903.4817  An Exponential Lower Bound on the Complexity o...  2012   \n",
       "4  0909.5175  Bounding the Sensitivity of Polynomial Thresho...  2013   \n",
       "5  0912.4884              An Invariance Principle for Polytopes  2012   \n",
       "6  1004.4668  Evolutionary Inference for Function-valued Tra...  2012   \n",
       "7  1005.4717  Smoothing proximal gradient method for general...  2012   \n",
       "8  1005.5141  On Recursive Edit Distance Kernels with Applic...  2014   \n",
       "9  1006.2513  On the Achievability of Cram\\'er-Rao Bound In ...  2012   \n",
       "\n",
       "                                             authors  \\\n",
       "0  Edoardo M Airoldi, David M Blei, Stephen E Fie...   \n",
       "1  Zhi-Hua Zhou, Min-Ling Zhang, Sheng-Jun Huang,...   \n",
       "2             Daniel Hsu, Sham M. Kakade, Tong Zhang   \n",
       "3  Bernd G\\\"artner, Martin Jaggi and Cl\\'ement Maria   \n",
       "4          Prahladh Harsha, Adam Klivans, Raghu Meka   \n",
       "5       Prahladh Harsha, Adam Klivans and Raghu Meka   \n",
       "6                    Nick S. Jones and John Moriarty   \n",
       "7  Xi Chen, Qihang Lin, Seyoung Kim, Jaime G. Car...   \n",
       "8  Pierre-Fran\\c{c}ois Marteau (IRISA), Sylvie Gi...   \n",
       "9  Rad Niazadeh, Masoud Babaie-Zadeh and Christia...   \n",
       "\n",
       "                                          categories  \\\n",
       "0  stat.ME,cs.LG,math.ST,physics.soc-ph,stat.ML,s...   \n",
       "1                                        cs.LG,cs.AI   \n",
       "2                                        cs.LG,cs.AI   \n",
       "3                  cs.LG,cs.CG,cs.CV,math.OC,stat.ML   \n",
       "4                                        cs.CC,cs.LG   \n",
       "5                    cs.CC,cs.CG,cs.DM,cs.LG,math.PR   \n",
       "6             q-bio.QM,cs.LG,physics.data-an,stat.ML   \n",
       "7              stat.ML,cs.LG,math.OC,stat.AP,stat.CO   \n",
       "8                                        cs.LG,cs.IR   \n",
       "9                                cs.IT,cs.LG,math.IT   \n",
       "\n",
       "                                            abstract  \n",
       "0    Observations consisting of measurements on r...  \n",
       "1    In this paper, we propose the MIML (Multi-In...  \n",
       "2    Hidden Markov Models (HMMs) are one of the m...  \n",
       "3    For a variety of regularized optimization pr...  \n",
       "4    We give the first non-trivial upper bounds o...  \n",
       "5    Let X be randomly chosen from {-1,1}^n, and ...  \n",
       "6    Biological data objects often have both of t...  \n",
       "7    We study the problem of estimating high-dime...  \n",
       "8    This paper proposes some extensions to the w...  \n",
       "9    Recently, it has been proved in Babadi et al...  "
      ]
     },
     "execution_count": 8,
     "metadata": {},
     "output_type": "execute_result"
    }
   ],
   "source": [
    "df.head(10)"
   ]
  },
  {
   "cell_type": "code",
   "execution_count": 9,
   "id": "9fdcd6f3-1036-4cd1-99d0-43513b7f40d7",
   "metadata": {
    "execution": {
     "iopub.execute_input": "2022-11-03T08:07:52.580192Z",
     "iopub.status.busy": "2022-11-03T08:07:52.579862Z",
     "iopub.status.idle": "2022-11-03T08:07:52.679284Z",
     "shell.execute_reply": "2022-11-03T08:07:52.678521Z",
     "shell.execute_reply.started": "2022-11-03T08:07:52.580162Z"
    },
    "tags": []
   },
   "outputs": [
    {
     "data": {
      "text/plain": [
       "169.8122788393489"
      ]
     },
     "execution_count": 9,
     "metadata": {},
     "output_type": "execute_result"
    }
   ],
   "source": [
    "# Avg length of the abstracts\n",
    "df.abstract.apply(lambda a: len(a.split())).mean()"
   ]
  },
  {
   "cell_type": "code",
   "execution_count": 10,
   "id": "e0569455-93c3-4191-af37-e3903b7ff499",
   "metadata": {
    "execution": {
     "iopub.execute_input": "2022-11-03T08:07:52.681135Z",
     "iopub.status.busy": "2022-11-03T08:07:52.680461Z",
     "iopub.status.idle": "2022-11-03T08:07:52.687626Z",
     "shell.execute_reply": "2022-11-03T08:07:52.687014Z",
     "shell.execute_reply.started": "2022-11-03T08:07:52.681102Z"
    },
    "tags": []
   },
   "outputs": [],
   "source": [
    "def clean_description(description: str):\n",
    "    if not description:\n",
    "        return \"\"\n",
    "    # remove unicode characters\n",
    "    description = description.encode('ascii', 'ignore').decode()\n",
    "\n",
    "    # remove punctuation\n",
    "    description = re.sub('[%s]' % re.escape(string.punctuation), ' ', description)\n",
    "\n",
    "    # clean up the spacing\n",
    "    description = re.sub('\\s{2,}', \" \", description)\n",
    "\n",
    "    # remove urls\n",
    "    #description = re.sub(\"https*\\S+\", \" \", description)\n",
    "\n",
    "    # remove newlines\n",
    "    description = description.replace(\"\\n\", \" \")\n",
    "\n",
    "    # remove all numbers\n",
    "    #description = re.sub('\\w*\\d+\\w*', '', description)\n",
    "\n",
    "    # split on capitalized words\n",
    "    description = \" \".join(re.split('(?=[A-Z])', description))\n",
    "\n",
    "    # clean up the spacing again\n",
    "    description = re.sub('\\s{2,}', \" \", description)\n",
    "\n",
    "    # make all words lowercase\n",
    "    description = description.lower()\n",
    "\n",
    "    return description"
   ]
  },
  {
   "cell_type": "markdown",
   "id": "edb2bcb0-b335-44e0-9cd5-436aad0868b6",
   "metadata": {},
   "source": [
    "# Generate Embeddings"
   ]
  },
  {
   "cell_type": "code",
   "execution_count": 11,
   "id": "c79c0b46-34fb-4ba0-813d-0c48c21c19a8",
   "metadata": {
    "execution": {
     "iopub.execute_input": "2022-11-03T08:07:52.688820Z",
     "iopub.status.busy": "2022-11-03T08:07:52.688619Z",
     "iopub.status.idle": "2022-11-03T08:07:59.086033Z",
     "shell.execute_reply": "2022-11-03T08:07:59.085180Z",
     "shell.execute_reply.started": "2022-11-03T08:07:52.688803Z"
    },
    "tags": []
   },
   "outputs": [],
   "source": [
    "from sentence_transformers import SentenceTransformer\n",
    "\n",
    "model = SentenceTransformer('sentence-transformers/all-mpnet-base-v2')"
   ]
  },
  {
   "cell_type": "code",
   "execution_count": 12,
   "id": "6df1803e-e57e-43f8-8649-1fe758dd414c",
   "metadata": {
    "execution": {
     "iopub.execute_input": "2022-11-03T08:07:59.089132Z",
     "iopub.status.busy": "2022-11-03T08:07:59.088723Z",
     "iopub.status.idle": "2022-11-03T08:10:55.492166Z",
     "shell.execute_reply": "2022-11-03T08:10:55.491493Z",
     "shell.execute_reply.started": "2022-11-03T08:07:59.089105Z"
    },
    "tags": []
   },
   "outputs": [],
   "source": [
    "# Create embeddings from the title and abstract\n",
    "emb = model.encode(df.apply(lambda r: clean_description(r['title'] + ' ' + r['abstract']), axis=1).tolist())"
   ]
  },
  {
   "cell_type": "code",
   "execution_count": 13,
   "id": "f19a8373-78db-4f83-85ac-74435c1885b2",
   "metadata": {
    "execution": {
     "iopub.execute_input": "2022-11-03T08:10:55.493778Z",
     "iopub.status.busy": "2022-11-03T08:10:55.493437Z",
     "iopub.status.idle": "2022-11-03T08:10:55.498626Z",
     "shell.execute_reply": "2022-11-03T08:10:55.497863Z",
     "shell.execute_reply.started": "2022-11-03T08:10:55.493757Z"
    },
    "tags": []
   },
   "outputs": [
    {
     "data": {
      "text/plain": [
       "11304"
      ]
     },
     "execution_count": 13,
     "metadata": {},
     "output_type": "execute_result"
    }
   ],
   "source": [
    "len(emb)"
   ]
  },
  {
   "cell_type": "code",
   "execution_count": 14,
   "id": "67af24bf-466c-45d1-8eac-d47bb25a6ea5",
   "metadata": {
    "execution": {
     "iopub.execute_input": "2022-11-03T08:10:55.500152Z",
     "iopub.status.busy": "2022-11-03T08:10:55.499706Z",
     "iopub.status.idle": "2022-11-03T08:10:55.881466Z",
     "shell.execute_reply": "2022-11-03T08:10:55.880791Z",
     "shell.execute_reply.started": "2022-11-03T08:10:55.500122Z"
    },
    "tags": []
   },
   "outputs": [],
   "source": [
    "# Add embeddings to df\n",
    "df = df.reset_index().drop('index', axis=1)\n",
    "df['vector'] = emb.tolist()"
   ]
  },
  {
   "cell_type": "code",
   "execution_count": 15,
   "id": "cadb8f80-f1f0-4bee-bfe7-776ff3fdaab5",
   "metadata": {
    "execution": {
     "iopub.execute_input": "2022-11-03T08:10:55.882782Z",
     "iopub.status.busy": "2022-11-03T08:10:55.882477Z",
     "iopub.status.idle": "2022-11-03T08:10:55.890114Z",
     "shell.execute_reply": "2022-11-03T08:10:55.889504Z",
     "shell.execute_reply.started": "2022-11-03T08:10:55.882761Z"
    },
    "tags": []
   },
   "outputs": [
    {
     "data": {
      "text/plain": [
       "0    [0.010859633795917034, 0.08288726955652237, -0...\n",
       "1    [-0.018738877028226852, 0.009955770336091518, ...\n",
       "2    [-0.007170570082962513, 0.05301477015018463, -...\n",
       "3    [-0.021994881331920624, 0.01989908143877983, -...\n",
       "4    [-0.0885002613067627, 0.0319611132144928, -0.0...\n",
       "Name: vector, dtype: object"
      ]
     },
     "execution_count": 15,
     "metadata": {},
     "output_type": "execute_result"
    }
   ],
   "source": [
    "df['vector'].head()"
   ]
  },
  {
   "cell_type": "code",
   "execution_count": 16,
   "id": "c93f325f-20cb-4ea2-9b7b-b4c6435c7ff0",
   "metadata": {
    "execution": {
     "iopub.execute_input": "2022-11-03T08:10:55.891249Z",
     "iopub.status.busy": "2022-11-03T08:10:55.890923Z",
     "iopub.status.idle": "2022-11-03T08:10:56.303734Z",
     "shell.execute_reply": "2022-11-03T08:10:56.302913Z",
     "shell.execute_reply.started": "2022-11-03T08:10:55.891222Z"
    },
    "tags": []
   },
   "outputs": [],
   "source": [
    "import pickle\n",
    "\n",
    "# Export to file!\n",
    "with open('arxiv_embeddings_10000.pkl', 'wb') as f:\n",
    "    data = pickle.dumps(df)\n",
    "    f.write(data)"
   ]
  },
  {
   "cell_type": "markdown",
   "id": "bd55ca6d-ce46-472c-83a5-c243607ecd54",
   "metadata": {},
   "source": [
    "# Load & Index Data in a redis"
   ]
  },
  {
   "cell_type": "code",
   "execution_count": 17,
   "id": "b7a39331-fb79-44f5-97c5-6d7872def4a7",
   "metadata": {
    "execution": {
     "iopub.execute_input": "2022-11-03T08:10:56.305424Z",
     "iopub.status.busy": "2022-11-03T08:10:56.305042Z",
     "iopub.status.idle": "2022-11-03T08:10:56.422625Z",
     "shell.execute_reply": "2022-11-03T08:10:56.421958Z",
     "shell.execute_reply.started": "2022-11-03T08:10:56.305393Z"
    },
    "tags": []
   },
   "outputs": [],
   "source": [
    "import typing as t\n",
    "import asyncio\n",
    "import numpy as np\n",
    "import pickle\n",
    "import redis.asyncio as redis\n",
    "from redis.commands.search.query import Query\n",
    "from redis.commands.search.field import TagField\n",
    "from redis.commands.search.field import VectorField\n",
    "from redis.commands.search.indexDefinition import IndexDefinition, IndexType\n",
    "from typing import Optional, Pattern\n",
    "from aredis_om import (\n",
    "    Field,\n",
    "    get_redis_connection,\n",
    "    Migrator,\n",
    "    HashModel\n",
    ")\n",
    "import os"
   ]
  },
  {
   "cell_type": "code",
   "execution_count": 18,
   "id": "d24ea20f-4bed-4779-b607-a07b387c13c0",
   "metadata": {
    "execution": {
     "iopub.execute_input": "2022-11-03T08:10:56.423805Z",
     "iopub.status.busy": "2022-11-03T08:10:56.423579Z",
     "iopub.status.idle": "2022-11-03T08:10:56.428246Z",
     "shell.execute_reply": "2022-11-03T08:10:56.427468Z",
     "shell.execute_reply.started": "2022-11-03T08:10:56.423785Z"
    },
    "tags": []
   },
   "outputs": [],
   "source": [
    "REDIS_URL = f\"redis://:ICe9oFTnhXr3s8oVz8CB1ljNu7jHZQiH@redis-16644.c282.east-us-mz.azure.cloud.redislabs.com:16644/arvix-dataset\""
   ]
  },
  {
   "cell_type": "code",
   "execution_count": 19,
   "id": "f6da54f6-a725-4706-b6d5-32a37bbd5090",
   "metadata": {
    "execution": {
     "iopub.execute_input": "2022-11-03T08:10:56.429416Z",
     "iopub.status.busy": "2022-11-03T08:10:56.429096Z",
     "iopub.status.idle": "2022-11-03T08:10:56.437072Z",
     "shell.execute_reply": "2022-11-03T08:10:56.436095Z",
     "shell.execute_reply.started": "2022-11-03T08:10:56.429385Z"
    },
    "tags": []
   },
   "outputs": [],
   "source": [
    "def read_paper_df() -> t.List:\n",
    "    with open(\"arxiv_embeddings_10000.pkl\", \"rb\") as f:\n",
    "        df = pickle.load(f)\n",
    "    return df"
   ]
  },
  {
   "cell_type": "code",
   "execution_count": 20,
   "id": "206d7f23-faff-4c4f-9971-61ce3a5149c2",
   "metadata": {
    "execution": {
     "iopub.execute_input": "2022-11-03T08:10:56.438821Z",
     "iopub.status.busy": "2022-11-03T08:10:56.438441Z",
     "iopub.status.idle": "2022-11-03T08:10:56.447851Z",
     "shell.execute_reply": "2022-11-03T08:10:56.446731Z",
     "shell.execute_reply.started": "2022-11-03T08:10:56.438790Z"
    },
    "tags": []
   },
   "outputs": [],
   "source": [
    "async def load_vectors(n, redis_conn, *papers):\n",
    "    semaphore = asyncio.Semaphore(n)\n",
    "    async def load_paper(paper: dict):\n",
    "        async with semaphore:\n",
    "            # Prep the input dictionary for Redis storage\n",
    "            key = \"paper_vector:\" + paper['id']\n",
    "            paper['paper_id'] = paper.pop('id')\n",
    "            paper['vector'] = np.array(paper['vector'], dtype=np.float32).tobytes()\n",
    "            paper['categories'] = paper['categories'].replace(\",\", \"|\")\n",
    "            # Store in Redis\n",
    "            await redis_conn.hset(key, mapping=paper)\n",
    "    # Gather results with concurrency\n",
    "    await asyncio.gather(*[load_paper(p) for p in papers])"
   ]
  },
  {
   "cell_type": "markdown",
   "id": "348337f8-7e2b-4da0-b244-60afce4d2cfc",
   "metadata": {
    "tags": []
   },
   "source": [
    "### Load and Index ArXiv Dataset"
   ]
  },
  {
   "cell_type": "code",
   "execution_count": 21,
   "id": "8456bf0b-9d1f-4d62-91b9-a57e1cd3af81",
   "metadata": {
    "execution": {
     "iopub.execute_input": "2022-11-03T08:10:56.449780Z",
     "iopub.status.busy": "2022-11-03T08:10:56.449449Z",
     "iopub.status.idle": "2022-11-03T08:10:56.456312Z",
     "shell.execute_reply": "2022-11-03T08:10:56.455509Z",
     "shell.execute_reply.started": "2022-11-03T08:10:56.449747Z"
    },
    "tags": []
   },
   "outputs": [],
   "source": [
    "def create_hnsw(\n",
    "    self,\n",
    "    *fields,\n",
    "    redis_conn: redis,\n",
    "    number_of_vectors: int,\n",
    "    prefix: str,\n",
    "    distance_metric: str='COSINE'\n",
    "):\n",
    "    \n",
    "    vector_field = VectorField(\n",
    "        \"vector\",\n",
    "        \"HNSW\", {\n",
    "            \"TYPE\": \"FLOAT32\",\n",
    "            \"DIM\": 768,\n",
    "            \"DISTANCE_METRIC\": distance_metric,\n",
    "            \"INITIAL_CAP\": number_of_vectors,\n",
    "        }\n",
    "    )\n",
    "async def _create(\n",
    "    self,\n",
    "    *fields,\n",
    "    redis_conn: redis,\n",
    "    prefix: str\n",
    "):\n",
    "    # Create Index\n",
    "    await redis_conn.ft(INDEX_NAME).create_index(\n",
    "        fields = fields,\n",
    "        definition= IndexDefinition(prefix=[prefix], index_type=IndexType.HASH)\n",
    "    )"
   ]
  },
  {
   "cell_type": "code",
   "execution_count": 22,
   "id": "444a7c1e-e7bb-47db-8866-d82cec2da938",
   "metadata": {
    "execution": {
     "iopub.execute_input": "2022-11-03T08:10:56.457520Z",
     "iopub.status.busy": "2022-11-03T08:10:56.457276Z",
     "iopub.status.idle": "2022-11-03T08:10:56.462828Z",
     "shell.execute_reply": "2022-11-03T08:10:56.462056Z",
     "shell.execute_reply.started": "2022-11-03T08:10:56.457499Z"
    },
    "tags": []
   },
   "outputs": [],
   "source": [
    "INDEX_NAME = \"Papers\""
   ]
  },
  {
   "cell_type": "code",
   "execution_count": 23,
   "id": "666e52c0-d257-488a-9f67-2d2a1d3f831d",
   "metadata": {
    "execution": {
     "iopub.execute_input": "2022-11-03T08:10:56.464447Z",
     "iopub.status.busy": "2022-11-03T08:10:56.464060Z",
     "iopub.status.idle": "2022-11-03T08:10:56.528053Z",
     "shell.execute_reply": "2022-11-03T08:10:56.527149Z",
     "shell.execute_reply.started": "2022-11-03T08:10:56.464417Z"
    },
    "tags": []
   },
   "outputs": [
    {
     "name": "stdout",
     "output_type": "stream",
     "text": [
      "Papers already loaded\n"
     ]
    }
   ],
   "source": [
    "redis_conn = redis.from_url(REDIS_URL)\n",
    "categories_field = TagField(\"categories\", separator = \"|\")\n",
    "year_field = TagField(\"year\", separator = \"|\")\n",
    "\n",
    "if await redis_conn.dbsize() > 300:\n",
    "    print(\"Papers already loaded\")\n",
    "\n",
    "else:\n",
    "    papers = read_paper_df()\n",
    "    papers = papers.to_dict('records')\n",
    "    \n",
    "    \n",
    "    await load_vectors(200, redis_conn,\n",
    "                       *papers)\n",
    "\n",
    "    create_hnsw(\n",
    "        categories_field, \n",
    "        year_field, \n",
    "        redis_conn=redis_conn, \n",
    "        number_of_vectors=len(papers), \n",
    "        prefix=\"paper_vector:\", \n",
    "        distance_metric=\"IP\",\n",
    "               )\n",
    "    print(\"Papers loaded & Indexed!\")\n",
    "    \n",
    "    await _create(\n",
    "        categories_field, \n",
    "        year_field, \n",
    "        redis_conn=redis_conn, \n",
    "        prefix=\"paper_vector:\",\n",
    "    )\n",
    "    print(\"Index_name Created!\")"
   ]
  },
  {
   "cell_type": "markdown",
   "id": "ea279761-d600-4897-860e-875198636fda",
   "metadata": {},
   "source": [
    "# Query The Top 5 papers"
   ]
  },
  {
   "cell_type": "code",
   "execution_count": null,
   "id": "42bf731a-0aad-4cb3-80bf-eb3f632668d2",
   "metadata": {
    "execution": {
     "iopub.status.busy": "2022-11-03T08:06:40.624851Z",
     "iopub.status.idle": "2022-11-03T08:06:40.626934Z",
     "shell.execute_reply": "2022-11-03T08:06:40.626737Z",
     "shell.execute_reply.started": "2022-11-03T08:06:40.626716Z"
    },
    "tags": []
   },
   "outputs": [],
   "source": [
    "topK = 5\n",
    "\n",
    "Search_query = 'Best feature store practices and techniques for machine learning models'\n",
    "query_vector = model.encode(Search_query).astype(np.float32).tobytes()\n",
    "\n",
    "query_param = {\"vec_param\": query_vector}\n",
    "query = Query(f'*=>[KNN {topK} @vector $vec_param AS vector_score]').sort_by(\"vector_score\").paging(0, topK).return_fields(\"paper_id\", \"vector_score\").dialect(2)\n",
    "query_param = {\"vec_param\": query_vector}\n",
    "\n",
    "results = await redis_conn.ft(INDEX_NAME).search(query, query_params = query_param)\n",
    "\n",
    "#print Similar paper found\n",
    "for p in results.docs:\n",
    "    print ('paper_id = ' + p.paper_id)\n",
    "    print ('Score = ' + p.vector_score)    \n"
   ]
  },
  {
   "cell_type": "code",
   "execution_count": null,
   "id": "2b13d7ab-6192-43e7-8d2d-170f9f0c0d03",
   "metadata": {},
   "outputs": [],
   "source": []
  }
 ],
 "metadata": {
  "kernelspec": {
   "display_name": "saturn (Python 3)",
   "language": "python",
   "name": "python3"
  },
  "language_info": {
   "codemirror_mode": {
    "name": "ipython",
    "version": 3
   },
   "file_extension": ".py",
   "mimetype": "text/x-python",
   "name": "python",
   "nbconvert_exporter": "python",
   "pygments_lexer": "ipython3",
   "version": "3.9.13"
  }
 },
 "nbformat": 4,
 "nbformat_minor": 5
}
