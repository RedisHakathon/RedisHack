{
 "cells": [
  {
   "cell_type": "markdown",
   "id": "1f4f0fea-b645-4dd5-a8a5-fbcf2d993272",
   "metadata": {},
   "source": [
    "# Download Arxiv from Kaggle"
   ]
  },
  {
   "cell_type": "code",
   "execution_count": 2,
   "id": "9245bf11-a45e-46cd-8623-bb0c015efaf9",
   "metadata": {
    "execution": {
     "iopub.execute_input": "2022-11-03T18:27:11.904828Z",
     "iopub.status.busy": "2022-11-03T18:27:11.904542Z",
     "iopub.status.idle": "2022-11-03T18:27:23.734974Z",
     "shell.execute_reply": "2022-11-03T18:27:23.734384Z",
     "shell.execute_reply.started": "2022-11-03T18:27:11.904805Z"
    },
    "tags": []
   },
   "outputs": [
    {
     "name": "stdout",
     "output_type": "stream",
     "text": [
      "Collecting opendatasets\n",
      "  Using cached opendatasets-0.1.22-py3-none-any.whl (15 kB)\n",
      "Collecting sentence-transformers\n",
      "  Using cached sentence_transformers-2.2.2-py3-none-any.whl\n",
      "Collecting redis\n",
      "  Using cached redis-4.3.4-py3-none-any.whl (246 kB)\n",
      "Collecting redis-om\n",
      "  Using cached redis_om-0.1.0-py3-none-any.whl (76 kB)\n",
      "Requirement already satisfied: tqdm in /opt/conda/envs/saturn/lib/python3.9/site-packages (from opendatasets->-r requirements.txt (line 1)) (4.64.0)\n",
      "Collecting kaggle\n",
      "  Using cached kaggle-1.5.12-py3-none-any.whl\n",
      "Requirement already satisfied: click in /opt/conda/envs/saturn/lib/python3.9/site-packages (from opendatasets->-r requirements.txt (line 1)) (8.0.4)\n",
      "Requirement already satisfied: scikit-learn in /opt/conda/envs/saturn/lib/python3.9/site-packages (from sentence-transformers->-r requirements.txt (line 2)) (1.1.3)\n",
      "Requirement already satisfied: scipy in /opt/conda/envs/saturn/lib/python3.9/site-packages (from sentence-transformers->-r requirements.txt (line 2)) (1.7.3)\n",
      "Collecting sentencepiece\n",
      "  Using cached sentencepiece-0.1.97-cp39-cp39-manylinux_2_17_x86_64.manylinux2014_x86_64.whl (1.3 MB)\n",
      "Requirement already satisfied: torchvision in /opt/conda/envs/saturn/lib/python3.9/site-packages (from sentence-transformers->-r requirements.txt (line 2)) (0.2.2)\n",
      "Collecting transformers<5.0.0,>=4.6.0\n",
      "  Using cached transformers-4.24.0-py3-none-any.whl (5.5 MB)\n",
      "Collecting nltk\n",
      "  Using cached nltk-3.7-py3-none-any.whl (1.5 MB)\n",
      "Requirement already satisfied: numpy in /opt/conda/envs/saturn/lib/python3.9/site-packages (from sentence-transformers->-r requirements.txt (line 2)) (1.21.5)\n",
      "Collecting huggingface-hub>=0.4.0\n",
      "  Using cached huggingface_hub-0.10.1-py3-none-any.whl (163 kB)\n",
      "Requirement already satisfied: torch>=1.6.0 in /opt/conda/envs/saturn/lib/python3.9/site-packages (from sentence-transformers->-r requirements.txt (line 2)) (1.9.1)\n",
      "Collecting deprecated>=1.2.3\n",
      "  Using cached Deprecated-1.2.13-py2.py3-none-any.whl (9.6 kB)\n",
      "Requirement already satisfied: packaging>=20.4 in /opt/conda/envs/saturn/lib/python3.9/site-packages (from redis->-r requirements.txt (line 3)) (21.3)\n",
      "Collecting async-timeout>=4.0.2\n",
      "  Using cached async_timeout-4.0.2-py3-none-any.whl (5.8 kB)\n",
      "Collecting aioredis<3.0.0,>=2.0.0\n",
      "  Using cached aioredis-2.0.1-py3-none-any.whl (71 kB)\n",
      "Collecting types-redis<5.0.0,>=3.5.9\n",
      "  Using cached types_redis-4.3.21.3-py3-none-any.whl (51 kB)\n",
      "Collecting typing-extensions<5.0.0,>=4.4.0\n",
      "  Using cached typing_extensions-4.4.0-py3-none-any.whl (26 kB)\n",
      "Collecting pptree<4.0,>=3.1\n",
      "  Using cached pptree-3.1-py3-none-any.whl\n",
      "Collecting python-ulid<2.0.0,>=1.0.3\n",
      "  Using cached python_ulid-1.1.0-py3-none-any.whl (9.4 kB)\n",
      "Collecting more-itertools<9.0.0,>=8.14.0\n",
      "  Using cached more_itertools-8.14.0-py3-none-any.whl (52 kB)\n",
      "Collecting cleo==1.0.0a5\n",
      "  Using cached cleo-1.0.0a5-py3-none-any.whl (78 kB)\n",
      "Collecting pydantic<2.0.0,>=1.10.2\n",
      "  Using cached pydantic-1.10.2-cp39-cp39-manylinux_2_17_x86_64.manylinux2014_x86_64.whl (13.2 MB)\n",
      "Collecting hiredis<3.0.0,>=2.0.0\n",
      "  Using cached hiredis-2.0.0-cp39-cp39-manylinux2010_x86_64.whl (85 kB)\n",
      "Collecting pylev<2.0.0,>=1.3.0\n",
      "  Using cached pylev-1.4.0-py2.py3-none-any.whl (6.1 kB)\n",
      "Collecting crashtest<0.4.0,>=0.3.1\n",
      "  Using cached crashtest-0.3.1-py3-none-any.whl (7.0 kB)\n",
      "Requirement already satisfied: wrapt<2,>=1.10 in /opt/conda/envs/saturn/lib/python3.9/site-packages (from deprecated>=1.2.3->redis->-r requirements.txt (line 3)) (1.13.3)\n",
      "Collecting filelock\n",
      "  Using cached filelock-3.8.0-py3-none-any.whl (10 kB)\n",
      "Requirement already satisfied: pyyaml>=5.1 in /opt/conda/envs/saturn/lib/python3.9/site-packages (from huggingface-hub>=0.4.0->sentence-transformers->-r requirements.txt (line 2)) (6.0)\n",
      "Requirement already satisfied: requests in /opt/conda/envs/saturn/lib/python3.9/site-packages (from huggingface-hub>=0.4.0->sentence-transformers->-r requirements.txt (line 2)) (2.27.1)\n",
      "Requirement already satisfied: pyparsing!=3.0.5,>=2.0.2 in /opt/conda/envs/saturn/lib/python3.9/site-packages (from packaging>=20.4->redis->-r requirements.txt (line 3)) (3.0.4)\n",
      "Collecting tokenizers!=0.11.3,<0.14,>=0.11.1\n",
      "  Using cached tokenizers-0.13.1-cp39-cp39-manylinux_2_17_x86_64.manylinux2014_x86_64.whl (7.6 MB)\n",
      "Collecting regex!=2019.12.17\n",
      "  Using cached regex-2022.10.31-cp39-cp39-manylinux_2_17_x86_64.manylinux2014_x86_64.whl (769 kB)\n",
      "Requirement already satisfied: python-slugify in /opt/conda/envs/saturn/lib/python3.9/site-packages (from kaggle->opendatasets->-r requirements.txt (line 1)) (5.0.2)\n",
      "Requirement already satisfied: urllib3 in /opt/conda/envs/saturn/lib/python3.9/site-packages (from kaggle->opendatasets->-r requirements.txt (line 1)) (1.26.9)\n",
      "Requirement already satisfied: certifi in /opt/conda/envs/saturn/lib/python3.9/site-packages (from kaggle->opendatasets->-r requirements.txt (line 1)) (2021.10.8)\n",
      "Requirement already satisfied: python-dateutil in /opt/conda/envs/saturn/lib/python3.9/site-packages (from kaggle->opendatasets->-r requirements.txt (line 1)) (2.8.2)\n",
      "Requirement already satisfied: six>=1.10 in /opt/conda/envs/saturn/lib/python3.9/site-packages (from kaggle->opendatasets->-r requirements.txt (line 1)) (1.16.0)\n",
      "Requirement already satisfied: joblib in /opt/conda/envs/saturn/lib/python3.9/site-packages (from nltk->sentence-transformers->-r requirements.txt (line 2)) (1.2.0)\n",
      "Requirement already satisfied: text-unidecode>=1.3 in /opt/conda/envs/saturn/lib/python3.9/site-packages (from python-slugify->kaggle->opendatasets->-r requirements.txt (line 1)) (1.3)\n",
      "Requirement already satisfied: idna<4,>=2.5 in /opt/conda/envs/saturn/lib/python3.9/site-packages (from requests->huggingface-hub>=0.4.0->sentence-transformers->-r requirements.txt (line 2)) (3.3)\n",
      "Requirement already satisfied: charset-normalizer~=2.0.0 in /opt/conda/envs/saturn/lib/python3.9/site-packages (from requests->huggingface-hub>=0.4.0->sentence-transformers->-r requirements.txt (line 2)) (2.0.4)\n",
      "Requirement already satisfied: threadpoolctl>=2.0.0 in /opt/conda/envs/saturn/lib/python3.9/site-packages (from scikit-learn->sentence-transformers->-r requirements.txt (line 2)) (3.1.0)\n",
      "Requirement already satisfied: pillow>=4.1.1 in /opt/conda/envs/saturn/lib/python3.9/site-packages (from torchvision->sentence-transformers->-r requirements.txt (line 2)) (9.0.1)\n",
      "Installing collected packages: typing-extensions, filelock, tokenizers, regex, pylev, huggingface-hub, deprecated, crashtest, async-timeout, types-redis, transformers, sentencepiece, redis, python-ulid, pydantic, pptree, nltk, more-itertools, kaggle, hiredis, cleo, aioredis, sentence-transformers, redis-om, opendatasets\n",
      "  Attempting uninstall: typing-extensions\n",
      "    Found existing installation: typing-extensions 4.1.1\n",
      "    Uninstalling typing-extensions-4.1.1:\n",
      "      Successfully uninstalled typing-extensions-4.1.1\n",
      "  Attempting uninstall: async-timeout\n",
      "    Found existing installation: async-timeout 4.0.1\n",
      "    Uninstalling async-timeout-4.0.1:\n",
      "      Successfully uninstalled async-timeout-4.0.1\n",
      "  Attempting uninstall: pydantic\n",
      "    Found existing installation: pydantic 1.9.0\n",
      "    Uninstalling pydantic-1.9.0:\n",
      "      Successfully uninstalled pydantic-1.9.0\n",
      "\u001b[31mERROR: pip's dependency resolver does not currently take into account all the packages that are installed. This behaviour is the source of the following dependency conflicts.\n",
      "fastai 1.0.61 requires nvidia-ml-py3, which is not installed.\n",
      "thinc 8.0.15 requires pydantic!=1.8,!=1.8.1,<1.9.0,>=1.7.4, but you have pydantic 1.10.2 which is incompatible.\n",
      "spacy 3.3.0 requires pydantic!=1.8,!=1.8.1,<1.9.0,>=1.7.4, but you have pydantic 1.10.2 which is incompatible.\u001b[0m\n",
      "Successfully installed aioredis-2.0.1 async-timeout-4.0.2 cleo-1.0.0a5 crashtest-0.3.1 deprecated-1.2.13 filelock-3.8.0 hiredis-2.0.0 huggingface-hub-0.10.1 kaggle-1.5.12 more-itertools-8.14.0 nltk-3.7 opendatasets-0.1.22 pptree-3.1 pydantic-1.10.2 pylev-1.4.0 python-ulid-1.1.0 redis-4.3.4 redis-om-0.1.0 regex-2022.10.31 sentence-transformers-2.2.2 sentencepiece-0.1.97 tokenizers-0.13.1 transformers-4.24.0 types-redis-4.3.21.3 typing-extensions-4.4.0\n"
     ]
    }
   ],
   "source": [
    "!pip install -r requirements.txt"
   ]
  },
  {
   "cell_type": "code",
   "execution_count": 3,
   "id": "31027a2e-fe6d-4dc5-90c1-cde4c38cc85b",
   "metadata": {
    "execution": {
     "iopub.execute_input": "2022-11-03T13:39:03.674416Z",
     "iopub.status.busy": "2022-11-03T13:39:03.674172Z",
     "iopub.status.idle": "2022-11-03T13:45:54.869417Z",
     "shell.execute_reply": "2022-11-03T13:45:54.868917Z",
     "shell.execute_reply.started": "2022-11-03T13:39:03.674381Z"
    },
    "tags": []
   },
   "outputs": [
    {
     "name": "stdout",
     "output_type": "stream",
     "text": [
      "Please provide your Kaggle credentials to download this dataset. Learn more: http://bit.ly/kaggle-creds\n",
      "Your Kaggle username:"
     ]
    },
    {
     "name": "stdin",
     "output_type": "stream",
     "text": [
      "  abdullahiahmed\n"
     ]
    },
    {
     "name": "stdout",
     "output_type": "stream",
     "text": [
      "Your Kaggle Key:"
     ]
    },
    {
     "name": "stdin",
     "output_type": "stream",
     "text": [
      "  ································\n"
     ]
    },
    {
     "name": "stdout",
     "output_type": "stream",
     "text": [
      "Downloading arxiv.zip to ./arxiv\n"
     ]
    },
    {
     "name": "stderr",
     "output_type": "stream",
     "text": [
      "100%|██████████| 1.09G/1.09G [00:13<00:00, 85.5MB/s]\n"
     ]
    },
    {
     "name": "stdout",
     "output_type": "stream",
     "text": [
      "\n"
     ]
    }
   ],
   "source": [
    "import opendatasets as od\n",
    "\n",
    "od.download(\"https://www.kaggle.com/datasets/Cornell-University/arxiv\")"
   ]
  },
  {
   "cell_type": "markdown",
   "id": "b5c849ff-52f7-4508-a239-f44ff1dc1021",
   "metadata": {},
   "source": [
    "# Clean The Data"
   ]
  },
  {
   "cell_type": "code",
   "execution_count": 4,
   "id": "52a7207d-ab1b-4fd9-a022-092a4c8667a0",
   "metadata": {
    "execution": {
     "iopub.execute_input": "2022-11-03T13:45:54.870409Z",
     "iopub.status.busy": "2022-11-03T13:45:54.870178Z",
     "iopub.status.idle": "2022-11-03T13:45:55.160985Z",
     "shell.execute_reply": "2022-11-03T13:45:55.160518Z",
     "shell.execute_reply.started": "2022-11-03T13:45:54.870374Z"
    },
    "tags": []
   },
   "outputs": [],
   "source": [
    "import json\n",
    "import pandas as pd\n",
    "import os\n",
    "import re\n",
    "import string\n",
    "\n",
    "\n",
    "DATA_PATH = \"arxiv-metadata-oai-snapshot.json\"\n",
    "YEAR_CUTOFF = 2012\n",
    "YEAR_PATTERN = r\"(19|20[0-9]{2})\"\n",
    "ML_CATEGORY = \"cs.LG\""
   ]
  },
  {
   "cell_type": "code",
   "execution_count": 5,
   "id": "576c693d-0f4e-4919-a8c2-dc690ac36c6c",
   "metadata": {
    "execution": {
     "iopub.execute_input": "2022-11-03T13:45:55.161880Z",
     "iopub.status.busy": "2022-11-03T13:45:55.161681Z",
     "iopub.status.idle": "2022-11-03T13:45:55.166959Z",
     "shell.execute_reply": "2022-11-03T13:45:55.166563Z",
     "shell.execute_reply.started": "2022-11-03T13:45:55.161861Z"
    },
    "tags": []
   },
   "outputs": [],
   "source": [
    "def process(paper: dict):\n",
    "    paper = json.loads(paper)\n",
    "    if paper['journal-ref']:\n",
    "        years = [int(year) for year in re.findall(YEAR_PATTERN, paper['journal-ref'])]\n",
    "        years = [year for year in years if (year <= 2022 and year >= 1991)]\n",
    "        year = min(years) if years else None\n",
    "    else:\n",
    "        year = None\n",
    "    return {\n",
    "        'id': paper['id'],\n",
    "        'title': paper['title'],\n",
    "        'year': year,\n",
    "        'authors': paper['authors'],\n",
    "        'categories': ','.join(paper['categories'].split(' ')),\n",
    "        'abstract': paper['abstract']\n",
    "    }\n",
    "\n",
    "def papers():\n",
    "    with open(DATA_PATH, 'r') as f:\n",
    "        for paper in f:\n",
    "            paper = process(paper)\n",
    "            if paper['year']:\n",
    "                if paper['year'] >= YEAR_CUTOFF and ML_CATEGORY in paper['categories']:\n",
    "                    yield paper"
   ]
  },
  {
   "cell_type": "code",
   "execution_count": 7,
   "id": "c639b2f0-bda4-450b-8328-21beff269a4d",
   "metadata": {
    "execution": {
     "iopub.execute_input": "2022-11-03T13:47:51.366605Z",
     "iopub.status.busy": "2022-11-03T13:47:51.366271Z",
     "iopub.status.idle": "2022-11-03T13:48:19.458172Z",
     "shell.execute_reply": "2022-11-03T13:48:19.457709Z",
     "shell.execute_reply.started": "2022-11-03T13:47:51.366580Z"
    },
    "tags": []
   },
   "outputs": [
    {
     "data": {
      "text/plain": [
       "11361"
      ]
     },
     "execution_count": 7,
     "metadata": {},
     "output_type": "execute_result"
    }
   ],
   "source": [
    "df = pd.DataFrame(papers())\n",
    "len(df)"
   ]
  },
  {
   "cell_type": "code",
   "execution_count": 8,
   "id": "97a8aeba-2692-4a39-a63f-299dc63d0f70",
   "metadata": {
    "execution": {
     "iopub.execute_input": "2022-11-03T13:48:19.459387Z",
     "iopub.status.busy": "2022-11-03T13:48:19.459163Z",
     "iopub.status.idle": "2022-11-03T13:48:19.468037Z",
     "shell.execute_reply": "2022-11-03T13:48:19.467655Z",
     "shell.execute_reply.started": "2022-11-03T13:48:19.459368Z"
    },
    "tags": []
   },
   "outputs": [
    {
     "data": {
      "text/html": [
       "<div>\n",
       "<style scoped>\n",
       "    .dataframe tbody tr th:only-of-type {\n",
       "        vertical-align: middle;\n",
       "    }\n",
       "\n",
       "    .dataframe tbody tr th {\n",
       "        vertical-align: top;\n",
       "    }\n",
       "\n",
       "    .dataframe thead th {\n",
       "        text-align: right;\n",
       "    }\n",
       "</style>\n",
       "<table border=\"1\" class=\"dataframe\">\n",
       "  <thead>\n",
       "    <tr style=\"text-align: right;\">\n",
       "      <th></th>\n",
       "      <th>id</th>\n",
       "      <th>title</th>\n",
       "      <th>year</th>\n",
       "      <th>authors</th>\n",
       "      <th>categories</th>\n",
       "      <th>abstract</th>\n",
       "    </tr>\n",
       "  </thead>\n",
       "  <tbody>\n",
       "    <tr>\n",
       "      <th>0</th>\n",
       "      <td>0705.4485</td>\n",
       "      <td>Mixed membership stochastic blockmodels</td>\n",
       "      <td>2014</td>\n",
       "      <td>Edoardo M Airoldi, David M Blei, Stephen E Fie...</td>\n",
       "      <td>stat.ME,cs.LG,math.ST,physics.soc-ph,stat.ML,s...</td>\n",
       "      <td>Observations consisting of measurements on r...</td>\n",
       "    </tr>\n",
       "    <tr>\n",
       "      <th>1</th>\n",
       "      <td>0808.3231</td>\n",
       "      <td>Multi-Instance Multi-Label Learning</td>\n",
       "      <td>2012</td>\n",
       "      <td>Zhi-Hua Zhou, Min-Ling Zhang, Sheng-Jun Huang,...</td>\n",
       "      <td>cs.LG,cs.AI</td>\n",
       "      <td>In this paper, we propose the MIML (Multi-In...</td>\n",
       "    </tr>\n",
       "    <tr>\n",
       "      <th>2</th>\n",
       "      <td>0811.4413</td>\n",
       "      <td>A Spectral Algorithm for Learning Hidden Marko...</td>\n",
       "      <td>2012</td>\n",
       "      <td>Daniel Hsu, Sham M. Kakade, Tong Zhang</td>\n",
       "      <td>cs.LG,cs.AI</td>\n",
       "      <td>Hidden Markov Models (HMMs) are one of the m...</td>\n",
       "    </tr>\n",
       "    <tr>\n",
       "      <th>3</th>\n",
       "      <td>0903.4817</td>\n",
       "      <td>An Exponential Lower Bound on the Complexity o...</td>\n",
       "      <td>2012</td>\n",
       "      <td>Bernd G\\\"artner, Martin Jaggi and Cl\\'ement Maria</td>\n",
       "      <td>cs.LG,cs.CG,cs.CV,math.OC,stat.ML</td>\n",
       "      <td>For a variety of regularized optimization pr...</td>\n",
       "    </tr>\n",
       "    <tr>\n",
       "      <th>4</th>\n",
       "      <td>0909.5175</td>\n",
       "      <td>Bounding the Sensitivity of Polynomial Thresho...</td>\n",
       "      <td>2013</td>\n",
       "      <td>Prahladh Harsha, Adam Klivans, Raghu Meka</td>\n",
       "      <td>cs.CC,cs.LG</td>\n",
       "      <td>We give the first non-trivial upper bounds o...</td>\n",
       "    </tr>\n",
       "    <tr>\n",
       "      <th>5</th>\n",
       "      <td>0912.4884</td>\n",
       "      <td>An Invariance Principle for Polytopes</td>\n",
       "      <td>2012</td>\n",
       "      <td>Prahladh Harsha, Adam Klivans and Raghu Meka</td>\n",
       "      <td>cs.CC,cs.CG,cs.DM,cs.LG,math.PR</td>\n",
       "      <td>Let X be randomly chosen from {-1,1}^n, and ...</td>\n",
       "    </tr>\n",
       "    <tr>\n",
       "      <th>6</th>\n",
       "      <td>1004.4668</td>\n",
       "      <td>Evolutionary Inference for Function-valued Tra...</td>\n",
       "      <td>2012</td>\n",
       "      <td>Nick S. Jones and John Moriarty</td>\n",
       "      <td>q-bio.QM,cs.LG,physics.data-an,stat.ML</td>\n",
       "      <td>Biological data objects often have both of t...</td>\n",
       "    </tr>\n",
       "    <tr>\n",
       "      <th>7</th>\n",
       "      <td>1005.4717</td>\n",
       "      <td>Smoothing proximal gradient method for general...</td>\n",
       "      <td>2012</td>\n",
       "      <td>Xi Chen, Qihang Lin, Seyoung Kim, Jaime G. Car...</td>\n",
       "      <td>stat.ML,cs.LG,math.OC,stat.AP,stat.CO</td>\n",
       "      <td>We study the problem of estimating high-dime...</td>\n",
       "    </tr>\n",
       "    <tr>\n",
       "      <th>8</th>\n",
       "      <td>1005.5141</td>\n",
       "      <td>On Recursive Edit Distance Kernels with Applic...</td>\n",
       "      <td>2014</td>\n",
       "      <td>Pierre-Fran\\c{c}ois Marteau (IRISA), Sylvie Gi...</td>\n",
       "      <td>cs.LG,cs.IR</td>\n",
       "      <td>This paper proposes some extensions to the w...</td>\n",
       "    </tr>\n",
       "    <tr>\n",
       "      <th>9</th>\n",
       "      <td>1006.2513</td>\n",
       "      <td>On the Achievability of Cram\\'er-Rao Bound In ...</td>\n",
       "      <td>2012</td>\n",
       "      <td>Rad Niazadeh, Masoud Babaie-Zadeh and Christia...</td>\n",
       "      <td>cs.IT,cs.LG,math.IT</td>\n",
       "      <td>Recently, it has been proved in Babadi et al...</td>\n",
       "    </tr>\n",
       "  </tbody>\n",
       "</table>\n",
       "</div>"
      ],
      "text/plain": [
       "          id                                              title  year  \\\n",
       "0  0705.4485            Mixed membership stochastic blockmodels  2014   \n",
       "1  0808.3231                Multi-Instance Multi-Label Learning  2012   \n",
       "2  0811.4413  A Spectral Algorithm for Learning Hidden Marko...  2012   \n",
       "3  0903.4817  An Exponential Lower Bound on the Complexity o...  2012   \n",
       "4  0909.5175  Bounding the Sensitivity of Polynomial Thresho...  2013   \n",
       "5  0912.4884              An Invariance Principle for Polytopes  2012   \n",
       "6  1004.4668  Evolutionary Inference for Function-valued Tra...  2012   \n",
       "7  1005.4717  Smoothing proximal gradient method for general...  2012   \n",
       "8  1005.5141  On Recursive Edit Distance Kernels with Applic...  2014   \n",
       "9  1006.2513  On the Achievability of Cram\\'er-Rao Bound In ...  2012   \n",
       "\n",
       "                                             authors  \\\n",
       "0  Edoardo M Airoldi, David M Blei, Stephen E Fie...   \n",
       "1  Zhi-Hua Zhou, Min-Ling Zhang, Sheng-Jun Huang,...   \n",
       "2             Daniel Hsu, Sham M. Kakade, Tong Zhang   \n",
       "3  Bernd G\\\"artner, Martin Jaggi and Cl\\'ement Maria   \n",
       "4          Prahladh Harsha, Adam Klivans, Raghu Meka   \n",
       "5       Prahladh Harsha, Adam Klivans and Raghu Meka   \n",
       "6                    Nick S. Jones and John Moriarty   \n",
       "7  Xi Chen, Qihang Lin, Seyoung Kim, Jaime G. Car...   \n",
       "8  Pierre-Fran\\c{c}ois Marteau (IRISA), Sylvie Gi...   \n",
       "9  Rad Niazadeh, Masoud Babaie-Zadeh and Christia...   \n",
       "\n",
       "                                          categories  \\\n",
       "0  stat.ME,cs.LG,math.ST,physics.soc-ph,stat.ML,s...   \n",
       "1                                        cs.LG,cs.AI   \n",
       "2                                        cs.LG,cs.AI   \n",
       "3                  cs.LG,cs.CG,cs.CV,math.OC,stat.ML   \n",
       "4                                        cs.CC,cs.LG   \n",
       "5                    cs.CC,cs.CG,cs.DM,cs.LG,math.PR   \n",
       "6             q-bio.QM,cs.LG,physics.data-an,stat.ML   \n",
       "7              stat.ML,cs.LG,math.OC,stat.AP,stat.CO   \n",
       "8                                        cs.LG,cs.IR   \n",
       "9                                cs.IT,cs.LG,math.IT   \n",
       "\n",
       "                                            abstract  \n",
       "0    Observations consisting of measurements on r...  \n",
       "1    In this paper, we propose the MIML (Multi-In...  \n",
       "2    Hidden Markov Models (HMMs) are one of the m...  \n",
       "3    For a variety of regularized optimization pr...  \n",
       "4    We give the first non-trivial upper bounds o...  \n",
       "5    Let X be randomly chosen from {-1,1}^n, and ...  \n",
       "6    Biological data objects often have both of t...  \n",
       "7    We study the problem of estimating high-dime...  \n",
       "8    This paper proposes some extensions to the w...  \n",
       "9    Recently, it has been proved in Babadi et al...  "
      ]
     },
     "execution_count": 8,
     "metadata": {},
     "output_type": "execute_result"
    }
   ],
   "source": [
    "df.head(10)"
   ]
  },
  {
   "cell_type": "code",
   "execution_count": 9,
   "id": "9fdcd6f3-1036-4cd1-99d0-43513b7f40d7",
   "metadata": {
    "execution": {
     "iopub.execute_input": "2022-11-03T13:48:19.468811Z",
     "iopub.status.busy": "2022-11-03T13:48:19.468642Z",
     "iopub.status.idle": "2022-11-03T13:48:19.570017Z",
     "shell.execute_reply": "2022-11-03T13:48:19.569629Z",
     "shell.execute_reply.started": "2022-11-03T13:48:19.468793Z"
    },
    "tags": []
   },
   "outputs": [
    {
     "data": {
      "text/plain": [
       "169.8317049555497"
      ]
     },
     "execution_count": 9,
     "metadata": {},
     "output_type": "execute_result"
    }
   ],
   "source": [
    "# Avg length of the abstracts\n",
    "df.abstract.apply(lambda a: len(a.split())).mean()"
   ]
  },
  {
   "cell_type": "code",
   "execution_count": 10,
   "id": "e0569455-93c3-4191-af37-e3903b7ff499",
   "metadata": {
    "execution": {
     "iopub.execute_input": "2022-11-03T13:48:19.571305Z",
     "iopub.status.busy": "2022-11-03T13:48:19.571118Z",
     "iopub.status.idle": "2022-11-03T13:48:19.575134Z",
     "shell.execute_reply": "2022-11-03T13:48:19.574730Z",
     "shell.execute_reply.started": "2022-11-03T13:48:19.571287Z"
    },
    "tags": []
   },
   "outputs": [],
   "source": [
    "def clean_description(description: str):\n",
    "    if not description:\n",
    "        return \"\"\n",
    "    # remove unicode characters\n",
    "    description = description.encode('ascii', 'ignore').decode()\n",
    "\n",
    "    # remove punctuation\n",
    "    description = re.sub('[%s]' % re.escape(string.punctuation), ' ', description)\n",
    "\n",
    "    # clean up the spacing\n",
    "    description = re.sub('\\s{2,}', \" \", description)\n",
    "\n",
    "    # remove urls\n",
    "    #description = re.sub(\"https*\\S+\", \" \", description)\n",
    "\n",
    "    # remove newlines\n",
    "    description = description.replace(\"\\n\", \" \")\n",
    "\n",
    "    # remove all numbers\n",
    "    #description = re.sub('\\w*\\d+\\w*', '', description)\n",
    "\n",
    "    # split on capitalized words\n",
    "    description = \" \".join(re.split('(?=[A-Z])', description))\n",
    "\n",
    "    # clean up the spacing again\n",
    "    description = re.sub('\\s{2,}', \" \", description)\n",
    "\n",
    "    # make all words lowercase\n",
    "    description = description.lower()\n",
    "\n",
    "    return description"
   ]
  },
  {
   "cell_type": "markdown",
   "id": "edb2bcb0-b335-44e0-9cd5-436aad0868b6",
   "metadata": {},
   "source": [
    "# Generate Embeddings"
   ]
  },
  {
   "cell_type": "code",
   "execution_count": 3,
   "id": "c79c0b46-34fb-4ba0-813d-0c48c21c19a8",
   "metadata": {
    "execution": {
     "iopub.execute_input": "2022-11-03T18:27:50.205008Z",
     "iopub.status.busy": "2022-11-03T18:27:50.204703Z",
     "iopub.status.idle": "2022-11-03T18:27:54.880280Z",
     "shell.execute_reply": "2022-11-03T18:27:54.879648Z",
     "shell.execute_reply.started": "2022-11-03T18:27:50.204982Z"
    },
    "tags": []
   },
   "outputs": [],
   "source": [
    "from sentence_transformers import SentenceTransformer\n",
    "\n",
    "model = SentenceTransformer('sentence-transformers/all-mpnet-base-v2')"
   ]
  },
  {
   "cell_type": "code",
   "execution_count": 12,
   "id": "6df1803e-e57e-43f8-8649-1fe758dd414c",
   "metadata": {
    "execution": {
     "iopub.execute_input": "2022-11-03T13:48:28.669197Z",
     "iopub.status.busy": "2022-11-03T13:48:28.668932Z",
     "iopub.status.idle": "2022-11-03T13:51:31.293654Z",
     "shell.execute_reply": "2022-11-03T13:51:31.293123Z",
     "shell.execute_reply.started": "2022-11-03T13:48:28.669173Z"
    },
    "tags": []
   },
   "outputs": [],
   "source": [
    "# Create embeddings from the title and abstract\n",
    "emb = model.encode(df.apply(lambda r: clean_description(r['title'] + ' ' + r['abstract']), axis=1).tolist())"
   ]
  },
  {
   "cell_type": "code",
   "execution_count": 13,
   "id": "f19a8373-78db-4f83-85ac-74435c1885b2",
   "metadata": {
    "execution": {
     "iopub.execute_input": "2022-11-03T13:51:31.295356Z",
     "iopub.status.busy": "2022-11-03T13:51:31.294984Z",
     "iopub.status.idle": "2022-11-03T13:51:31.299807Z",
     "shell.execute_reply": "2022-11-03T13:51:31.299262Z",
     "shell.execute_reply.started": "2022-11-03T13:51:31.295322Z"
    },
    "tags": []
   },
   "outputs": [
    {
     "data": {
      "text/plain": [
       "11361"
      ]
     },
     "execution_count": 13,
     "metadata": {},
     "output_type": "execute_result"
    }
   ],
   "source": [
    "len(emb)"
   ]
  },
  {
   "cell_type": "code",
   "execution_count": 14,
   "id": "67af24bf-466c-45d1-8eac-d47bb25a6ea5",
   "metadata": {
    "execution": {
     "iopub.execute_input": "2022-11-03T13:51:31.300824Z",
     "iopub.status.busy": "2022-11-03T13:51:31.300612Z",
     "iopub.status.idle": "2022-11-03T13:51:31.677023Z",
     "shell.execute_reply": "2022-11-03T13:51:31.676523Z",
     "shell.execute_reply.started": "2022-11-03T13:51:31.300795Z"
    },
    "tags": []
   },
   "outputs": [],
   "source": [
    "# Add embeddings to df\n",
    "df = df.reset_index().drop('index', axis=1)\n",
    "df['vector'] = emb.tolist()"
   ]
  },
  {
   "cell_type": "code",
   "execution_count": 15,
   "id": "cadb8f80-f1f0-4bee-bfe7-776ff3fdaab5",
   "metadata": {
    "execution": {
     "iopub.execute_input": "2022-11-03T13:51:31.678404Z",
     "iopub.status.busy": "2022-11-03T13:51:31.677956Z",
     "iopub.status.idle": "2022-11-03T13:51:31.685463Z",
     "shell.execute_reply": "2022-11-03T13:51:31.684900Z",
     "shell.execute_reply.started": "2022-11-03T13:51:31.678353Z"
    },
    "tags": []
   },
   "outputs": [
    {
     "data": {
      "text/plain": [
       "0    [0.010859647765755653, 0.08288727700710297, -0...\n",
       "1    [-0.018738871440291405, 0.009955745190382004, ...\n",
       "2    [-0.007170626427978277, 0.05301477387547493, -...\n",
       "3    [-0.021994853392243385, 0.019899088889360428, ...\n",
       "4    [-0.08850026875734329, 0.03196108341217041, -0...\n",
       "Name: vector, dtype: object"
      ]
     },
     "execution_count": 15,
     "metadata": {},
     "output_type": "execute_result"
    }
   ],
   "source": [
    "df['vector'].head()"
   ]
  },
  {
   "cell_type": "code",
   "execution_count": 16,
   "id": "c93f325f-20cb-4ea2-9b7b-b4c6435c7ff0",
   "metadata": {
    "execution": {
     "iopub.execute_input": "2022-11-03T13:51:31.688115Z",
     "iopub.status.busy": "2022-11-03T13:51:31.687672Z",
     "iopub.status.idle": "2022-11-03T13:51:31.964711Z",
     "shell.execute_reply": "2022-11-03T13:51:31.964180Z",
     "shell.execute_reply.started": "2022-11-03T13:51:31.688083Z"
    },
    "tags": []
   },
   "outputs": [],
   "source": [
    "import pickle\n",
    "\n",
    "# Export to file!\n",
    "with open('arxiv_embeddings_10000.pkl', 'wb') as f:\n",
    "    data = pickle.dumps(df)\n",
    "    f.write(data)"
   ]
  },
  {
   "cell_type": "markdown",
   "id": "bd55ca6d-ce46-472c-83a5-c243607ecd54",
   "metadata": {},
   "source": [
    "# Load & Index Data in a redis"
   ]
  },
  {
   "cell_type": "code",
   "execution_count": 14,
   "id": "b7a39331-fb79-44f5-97c5-6d7872def4a7",
   "metadata": {
    "execution": {
     "iopub.execute_input": "2022-11-03T18:31:52.452345Z",
     "iopub.status.busy": "2022-11-03T18:31:52.452048Z",
     "iopub.status.idle": "2022-11-03T18:31:52.455896Z",
     "shell.execute_reply": "2022-11-03T18:31:52.455452Z",
     "shell.execute_reply.started": "2022-11-03T18:31:52.452321Z"
    },
    "tags": []
   },
   "outputs": [],
   "source": [
    "import typing as t\n",
    "import asyncio\n",
    "import numpy as np\n",
    "import pickle\n",
    "import redis.asyncio as redis\n",
    "from redis.commands.search.query import Query\n",
    "from redis.commands.search.field import TagField\n",
    "from redis.commands.search.field import VectorField\n",
    "from redis.commands.search.indexDefinition import IndexDefinition, IndexType\n"
   ]
  },
  {
   "cell_type": "code",
   "execution_count": 15,
   "id": "d24ea20f-4bed-4779-b607-a07b387c13c0",
   "metadata": {
    "execution": {
     "iopub.execute_input": "2022-11-03T18:31:53.688176Z",
     "iopub.status.busy": "2022-11-03T18:31:53.687891Z",
     "iopub.status.idle": "2022-11-03T18:31:53.690915Z",
     "shell.execute_reply": "2022-11-03T18:31:53.690463Z",
     "shell.execute_reply.started": "2022-11-03T18:31:53.688154Z"
    },
    "tags": []
   },
   "outputs": [],
   "source": [
    "REDIS_URL = f\"redis://:ICe9oFTnhXr3s8oVz8CB1ljNu7jHZQiH@redis-16644.c282.east-us-mz.azure.cloud.redislabs.com:16644/arvix-dataset\""
   ]
  },
  {
   "cell_type": "code",
   "execution_count": 16,
   "id": "f6da54f6-a725-4706-b6d5-32a37bbd5090",
   "metadata": {
    "execution": {
     "iopub.execute_input": "2022-11-03T18:31:54.851975Z",
     "iopub.status.busy": "2022-11-03T18:31:54.851690Z",
     "iopub.status.idle": "2022-11-03T18:31:54.855077Z",
     "shell.execute_reply": "2022-11-03T18:31:54.854632Z",
     "shell.execute_reply.started": "2022-11-03T18:31:54.851953Z"
    },
    "tags": []
   },
   "outputs": [],
   "source": [
    "def read_paper_df() -> t.List:\n",
    "    with open(\"arxiv_embeddings_10000.pkl\", \"rb\") as f:\n",
    "        df = pickle.load(f)\n",
    "    return df"
   ]
  },
  {
   "cell_type": "code",
   "execution_count": 17,
   "id": "206d7f23-faff-4c4f-9971-61ce3a5149c2",
   "metadata": {
    "execution": {
     "iopub.execute_input": "2022-11-03T18:31:57.752164Z",
     "iopub.status.busy": "2022-11-03T18:31:57.751889Z",
     "iopub.status.idle": "2022-11-03T18:31:57.756730Z",
     "shell.execute_reply": "2022-11-03T18:31:57.756276Z",
     "shell.execute_reply.started": "2022-11-03T18:31:57.752143Z"
    },
    "tags": []
   },
   "outputs": [],
   "source": [
    "async def load_vectors(n, redis_conn, *papers):\n",
    "    semaphore = asyncio.Semaphore(n)\n",
    "    async def load_paper(paper: dict):\n",
    "        async with semaphore:\n",
    "            # Prep the input dictionary for Redis storage\n",
    "            key = \"paper_vector:\" + paper['id']\n",
    "            paper['paper_id'] = paper.pop('id')\n",
    "            paper['vector'] = np.array(paper['vector'], dtype=np.float32).tobytes()\n",
    "            paper['categories'] = paper['categories'].replace(\",\", \"|\")\n",
    "            # Store in Redis\n",
    "            await redis_conn.hset(key, mapping=paper)\n",
    "    # Gather results with concurrency\n",
    "    await asyncio.gather(*[load_paper(p) for p in papers])"
   ]
  },
  {
   "cell_type": "markdown",
   "id": "348337f8-7e2b-4da0-b244-60afce4d2cfc",
   "metadata": {
    "tags": []
   },
   "source": [
    "### Load and Index ArXiv Dataset"
   ]
  },
  {
   "cell_type": "code",
   "execution_count": 18,
   "id": "ea6e7d50-9bce-4f84-85a1-b0f69d8bbeec",
   "metadata": {
    "execution": {
     "iopub.execute_input": "2022-11-03T18:32:08.684273Z",
     "iopub.status.busy": "2022-11-03T18:32:08.683982Z",
     "iopub.status.idle": "2022-11-03T18:32:08.686919Z",
     "shell.execute_reply": "2022-11-03T18:32:08.686482Z",
     "shell.execute_reply.started": "2022-11-03T18:32:08.684251Z"
    },
    "tags": []
   },
   "outputs": [],
   "source": [
    "INDEX_NAME = \"index\""
   ]
  },
  {
   "cell_type": "code",
   "execution_count": 72,
   "id": "b295ced9-e57f-491c-a909-99860529085c",
   "metadata": {
    "execution": {
     "iopub.execute_input": "2022-11-03T15:52:52.241241Z",
     "iopub.status.busy": "2022-11-03T15:52:52.240963Z",
     "iopub.status.idle": "2022-11-03T15:52:52.245963Z",
     "shell.execute_reply": "2022-11-03T15:52:52.245486Z",
     "shell.execute_reply.started": "2022-11-03T15:52:52.241220Z"
    },
    "tags": []
   },
   "outputs": [],
   "source": [
    "async def create_hnsw(\n",
    "    self,\n",
    "    *fields,\n",
    "    redis_conn: redis,\n",
    "    number_of_vectors: int,\n",
    "    prefix: str,\n",
    "    distance_metric: str='COSINE'\n",
    "):\n",
    "    vector_field = VectorField(\n",
    "        \"vector\",\n",
    "        \"HNSW\", {\n",
    "            \"TYPE\": \"FLOAT32\",\n",
    "            \"DIM\": 768,\n",
    "            \"DISTANCE_METRIC\": distance_metric,\n",
    "            \"INITIAL_CAP\": number_of_vectors,\n",
    "        }\n",
    "    )\n",
    "    await self._create(\n",
    "        *fields,\n",
    "        vector_field,\n",
    "        redis_conn=redis_conn,\n",
    "        prefix=prefix\n",
    "    )\n",
    "\n",
    "async def _create(\n",
    "    self,\n",
    "    *fields,\n",
    "    redis_conn: redis,\n",
    "    prefix: str\n",
    "):\n",
    "    # Create Index\n",
    "    await redis_conn.ft(INDEX_NAME).create_index(\n",
    "        fields = fields,\n",
    "        definition= IndexDefinition(prefix=[prefix], index_type=IndexType.HASH)\n",
    "    )"
   ]
  },
  {
   "cell_type": "code",
   "execution_count": 21,
   "id": "5beeedcb-11cc-49bd-810d-4f907b71efc6",
   "metadata": {
    "execution": {
     "iopub.execute_input": "2022-11-03T18:34:23.072199Z",
     "iopub.status.busy": "2022-11-03T18:34:23.071910Z",
     "iopub.status.idle": "2022-11-03T18:34:23.131798Z",
     "shell.execute_reply": "2022-11-03T18:34:23.131308Z",
     "shell.execute_reply.started": "2022-11-03T18:34:23.072176Z"
    },
    "tags": []
   },
   "outputs": [
    {
     "name": "stdout",
     "output_type": "stream",
     "text": [
      "Papers already loaded\n"
     ]
    }
   ],
   "source": [
    "# Redis Connection\n",
    "redis_conn = redis.from_url(REDIS_URL)\n",
    "\n",
    "# Schema\n",
    "categories_field = TagField(\"categories\", separator = \"|\")\n",
    "year_field = TagField(\"year\", separator = \"|\")\n",
    "\n",
    "\n",
    "# Load papers\n",
    "if await redis_conn.dbsize() > 500:\n",
    "    print(\"Papers already loaded\")\n",
    "else:\n",
    "    papers = read_paper_df()\n",
    "    papers = papers.to_dict(\"records\")\n",
    "    await load_vectors(200, redis_conn, *papers)\n",
    "    \n",
    "    vector_field = VectorField(\n",
    "    \"vector\",\n",
    "    \"HNSW\", {\n",
    "        \"TYPE\": \"FLOAT32\",\n",
    "        \"DIM\": 768,\n",
    "        \"DISTANCE_METRIC\": \"IP\",\n",
    "        \"INITIAL_CAP\": len(papers),\n",
    "    }\n",
    ")\n",
    "    await redis_conn.ft(INDEX_NAME).create_index(\n",
    "        fields = [year_field, categories_field, vector_field],\n",
    "        definition= IndexDefinition(prefix=[\"paper_vector:\"],\n",
    "                                    index_type=IndexType.HASH)\n",
    "    )\n",
    "\n"
   ]
  },
  {
   "cell_type": "markdown",
   "id": "ea279761-d600-4897-860e-875198636fda",
   "metadata": {},
   "source": [
    "# Query The Top 5 papers"
   ]
  },
  {
   "cell_type": "code",
   "execution_count": 23,
   "id": "42bf731a-0aad-4cb3-80bf-eb3f632668d2",
   "metadata": {
    "execution": {
     "iopub.execute_input": "2022-11-03T18:44:11.208470Z",
     "iopub.status.busy": "2022-11-03T18:44:11.208184Z",
     "iopub.status.idle": "2022-11-03T18:44:11.240838Z",
     "shell.execute_reply": "2022-11-03T18:44:11.240340Z",
     "shell.execute_reply.started": "2022-11-03T18:44:11.208448Z"
    },
    "tags": []
   },
   "outputs": [
    {
     "name": "stdout",
     "output_type": "stream",
     "text": [
      "paper_id = 2108.05053\n",
      "Score = 0.366067886353\n",
      "title = Managing ML Pipelines: Feature Stores and the Coming Wave of Embedding\n",
      "  Ecosystems\n",
      "paper_id = 1701.07852\n",
      "Score = 0.391455054283\n",
      "title = An Empirical Analysis of Feature Engineering for Predictive Modeling\n",
      "paper_id = 1906.10366\n",
      "Score = 0.391716659069\n",
      "title = Software Engineering Practices for Machine Learning\n",
      "paper_id = 2107.13821\n",
      "Score = 0.42319393158\n",
      "title = Concept for a Technical Infrastructure for Management of Predictive\n",
      "  Models in Industrial Applications\n",
      "paper_id = 2103.14539\n",
      "Score = 0.461458265781\n",
      "title = FeatureEnVi: Visual Analytics for Feature Engineering Using Stepwise\n",
      "  Selection and Semi-Automatic Extraction Approaches\n"
     ]
    }
   ],
   "source": [
    "topK = 5\n",
    "\n",
    "Search_query = 'Best feature store practices and techniques for machine learning models'\n",
    "query_vector = model.encode(Search_query).astype(np.float32).tobytes()\n",
    "\n",
    "query = Query(f'*=>[KNN {topK} @vector $vec_param AS vector_score]').sort_by(\"vector_score\").paging(0, topK).return_fields(\"paper_id\", \"title\", \"vector_score\").dialect(2)\n",
    "query_param = {\"vec_param\": query_vector}\n",
    "\n",
    "results = await redis_conn.ft(INDEX_NAME).search(query, query_params = query_param)\n",
    "\n",
    "#print Similar paper found\n",
    "for p in results.docs:\n",
    "    print ('paper_id = ' + p.paper_id)\n",
    "    print ('Score = ' + p.vector_score)\n",
    "    print ('title = ' + p.title)\n"
   ]
  },
  {
   "cell_type": "code",
   "execution_count": null,
   "id": "c0655894-7bd0-471a-87e1-32cda698a3fc",
   "metadata": {},
   "outputs": [],
   "source": []
  }
 ],
 "metadata": {
  "kernelspec": {
   "display_name": "saturn (Python 3)",
   "language": "python",
   "name": "python3"
  },
  "language_info": {
   "codemirror_mode": {
    "name": "ipython",
    "version": 3
   },
   "file_extension": ".py",
   "mimetype": "text/x-python",
   "name": "python",
   "nbconvert_exporter": "python",
   "pygments_lexer": "ipython3",
   "version": "3.9.12"
  }
 },
 "nbformat": 4,
 "nbformat_minor": 5
}
